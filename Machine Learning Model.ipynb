{
 "cells": [
  {
   "cell_type": "markdown",
   "metadata": {},
   "source": [
    "IMPORTING PACKAGES "
   ]
  },
  {
   "cell_type": "code",
   "execution_count": 764,
   "metadata": {},
   "outputs": [],
   "source": [
    "import pandas as pd\n",
    "import numpy as np\n",
    "import seaborn as sns\n",
    "import matplotlib.pyplot as plt\n",
    "from sklearn.preprocessing import Binarizer\n",
    "from matplotlib import style"
   ]
  },
  {
   "cell_type": "markdown",
   "metadata": {},
   "source": [
    "READING DATASET and CREATING THE DATA FRAME"
   ]
  },
  {
   "cell_type": "code",
   "execution_count": 765,
   "metadata": {
    "scrolled": true
   },
   "outputs": [],
   "source": [
    "data=pd.read_csv(r\"C:\\Users\\KIIT\\Desktop\\1828188.csv\")\n",
    "df=pd.DataFrame(data)"
   ]
  },
  {
   "cell_type": "code",
   "execution_count": 766,
   "metadata": {
    "scrolled": true
   },
   "outputs": [
    {
     "data": {
      "text/html": [
       "<div>\n",
       "<style scoped>\n",
       "    .dataframe tbody tr th:only-of-type {\n",
       "        vertical-align: middle;\n",
       "    }\n",
       "\n",
       "    .dataframe tbody tr th {\n",
       "        vertical-align: top;\n",
       "    }\n",
       "\n",
       "    .dataframe thead th {\n",
       "        text-align: right;\n",
       "    }\n",
       "</style>\n",
       "<table border=\"1\" class=\"dataframe\">\n",
       "  <thead>\n",
       "    <tr style=\"text-align: right;\">\n",
       "      <th></th>\n",
       "      <th>business_code</th>\n",
       "      <th>cust_number</th>\n",
       "      <th>name_customer</th>\n",
       "      <th>clear_date</th>\n",
       "      <th>buisness_year</th>\n",
       "      <th>doc_id</th>\n",
       "      <th>posting_date</th>\n",
       "      <th>document_create_date</th>\n",
       "      <th>document_create_date.1</th>\n",
       "      <th>due_in_date</th>\n",
       "      <th>invoice_currency</th>\n",
       "      <th>document type</th>\n",
       "      <th>posting_id</th>\n",
       "      <th>area_business</th>\n",
       "      <th>total_open_amount</th>\n",
       "      <th>baseline_create_date</th>\n",
       "      <th>cust_payment_terms</th>\n",
       "      <th>invoice_id</th>\n",
       "      <th>isOpen</th>\n",
       "    </tr>\n",
       "  </thead>\n",
       "  <tbody>\n",
       "    <tr>\n",
       "      <th>0</th>\n",
       "      <td>U001</td>\n",
       "      <td>0200769623</td>\n",
       "      <td>WAL-MAR us</td>\n",
       "      <td>2019-05-15 00:00:00</td>\n",
       "      <td>2019.0</td>\n",
       "      <td>1.929261e+09</td>\n",
       "      <td>2019-05-05</td>\n",
       "      <td>20190505</td>\n",
       "      <td>20190505</td>\n",
       "      <td>20190520.0</td>\n",
       "      <td>USD</td>\n",
       "      <td>RV</td>\n",
       "      <td>1.0</td>\n",
       "      <td>NaN</td>\n",
       "      <td>6532.60</td>\n",
       "      <td>20190505.0</td>\n",
       "      <td>NAH4</td>\n",
       "      <td>1.929261e+09</td>\n",
       "      <td>0</td>\n",
       "    </tr>\n",
       "    <tr>\n",
       "      <th>1</th>\n",
       "      <td>U001</td>\n",
       "      <td>0200769623</td>\n",
       "      <td>WAL-MAR</td>\n",
       "      <td>2019-10-22 00:00:00</td>\n",
       "      <td>2019.0</td>\n",
       "      <td>1.929996e+09</td>\n",
       "      <td>2019-10-12</td>\n",
       "      <td>20191010</td>\n",
       "      <td>20191012</td>\n",
       "      <td>20191027.0</td>\n",
       "      <td>USD</td>\n",
       "      <td>RV</td>\n",
       "      <td>1.0</td>\n",
       "      <td>NaN</td>\n",
       "      <td>9890.75</td>\n",
       "      <td>20191012.0</td>\n",
       "      <td>NAH4</td>\n",
       "      <td>1.929996e+09</td>\n",
       "      <td>0</td>\n",
       "    </tr>\n",
       "    <tr>\n",
       "      <th>2</th>\n",
       "      <td>CA02</td>\n",
       "      <td>0140104429</td>\n",
       "      <td>COSTCO foundation</td>\n",
       "      <td>2019-04-04 00:00:00</td>\n",
       "      <td>2019.0</td>\n",
       "      <td>2.960536e+09</td>\n",
       "      <td>2019-03-23</td>\n",
       "      <td>20190323</td>\n",
       "      <td>20190323</td>\n",
       "      <td>20190403.0</td>\n",
       "      <td>CAD</td>\n",
       "      <td>RV</td>\n",
       "      <td>1.0</td>\n",
       "      <td>NaN</td>\n",
       "      <td>73059.22</td>\n",
       "      <td>20190324.0</td>\n",
       "      <td>CA10</td>\n",
       "      <td>2.960536e+09</td>\n",
       "      <td>0</td>\n",
       "    </tr>\n",
       "    <tr>\n",
       "      <th>3</th>\n",
       "      <td>U001</td>\n",
       "      <td>0200769623</td>\n",
       "      <td>WAL-MAR corp</td>\n",
       "      <td>2019-12-10 00:00:00</td>\n",
       "      <td>2019.0</td>\n",
       "      <td>1.930203e+09</td>\n",
       "      <td>2019-11-27</td>\n",
       "      <td>20191127</td>\n",
       "      <td>20191127</td>\n",
       "      <td>20191212.0</td>\n",
       "      <td>USD</td>\n",
       "      <td>RV</td>\n",
       "      <td>1.0</td>\n",
       "      <td>NaN</td>\n",
       "      <td>12219.74</td>\n",
       "      <td>20191127.0</td>\n",
       "      <td>NAH4</td>\n",
       "      <td>1.930203e+09</td>\n",
       "      <td>0</td>\n",
       "    </tr>\n",
       "    <tr>\n",
       "      <th>4</th>\n",
       "      <td>U001</td>\n",
       "      <td>0200769623</td>\n",
       "      <td>WAL-MAR corp</td>\n",
       "      <td>2019-07-08 00:00:00</td>\n",
       "      <td>2019.0</td>\n",
       "      <td>1.929540e+09</td>\n",
       "      <td>2019-06-27</td>\n",
       "      <td>20190625</td>\n",
       "      <td>20190627</td>\n",
       "      <td>20190712.0</td>\n",
       "      <td>USD</td>\n",
       "      <td>RV</td>\n",
       "      <td>1.0</td>\n",
       "      <td>NaN</td>\n",
       "      <td>1897.50</td>\n",
       "      <td>20190627.0</td>\n",
       "      <td>NAH4</td>\n",
       "      <td>1.929540e+09</td>\n",
       "      <td>0</td>\n",
       "    </tr>\n",
       "  </tbody>\n",
       "</table>\n",
       "</div>"
      ],
      "text/plain": [
       "  business_code cust_number      name_customer           clear_date  \\\n",
       "0          U001  0200769623         WAL-MAR us  2019-05-15 00:00:00   \n",
       "1          U001  0200769623           WAL-MAR   2019-10-22 00:00:00   \n",
       "2          CA02  0140104429  COSTCO foundation  2019-04-04 00:00:00   \n",
       "3          U001  0200769623       WAL-MAR corp  2019-12-10 00:00:00   \n",
       "4          U001  0200769623       WAL-MAR corp  2019-07-08 00:00:00   \n",
       "\n",
       "   buisness_year        doc_id posting_date  document_create_date  \\\n",
       "0         2019.0  1.929261e+09   2019-05-05              20190505   \n",
       "1         2019.0  1.929996e+09   2019-10-12              20191010   \n",
       "2         2019.0  2.960536e+09   2019-03-23              20190323   \n",
       "3         2019.0  1.930203e+09   2019-11-27              20191127   \n",
       "4         2019.0  1.929540e+09   2019-06-27              20190625   \n",
       "\n",
       "   document_create_date.1  due_in_date invoice_currency document type  \\\n",
       "0                20190505   20190520.0              USD            RV   \n",
       "1                20191012   20191027.0              USD            RV   \n",
       "2                20190323   20190403.0              CAD            RV   \n",
       "3                20191127   20191212.0              USD            RV   \n",
       "4                20190627   20190712.0              USD            RV   \n",
       "\n",
       "   posting_id  area_business  total_open_amount  baseline_create_date  \\\n",
       "0         1.0            NaN            6532.60            20190505.0   \n",
       "1         1.0            NaN            9890.75            20191012.0   \n",
       "2         1.0            NaN           73059.22            20190324.0   \n",
       "3         1.0            NaN           12219.74            20191127.0   \n",
       "4         1.0            NaN            1897.50            20190627.0   \n",
       "\n",
       "  cust_payment_terms    invoice_id  isOpen  \n",
       "0               NAH4  1.929261e+09       0  \n",
       "1               NAH4  1.929996e+09       0  \n",
       "2               CA10  2.960536e+09       0  \n",
       "3               NAH4  1.930203e+09       0  \n",
       "4               NAH4  1.929540e+09       0  "
      ]
     },
     "execution_count": 766,
     "metadata": {},
     "output_type": "execute_result"
    }
   ],
   "source": [
    "df.head()"
   ]
  },
  {
   "cell_type": "code",
   "execution_count": 767,
   "metadata": {
    "scrolled": true
   },
   "outputs": [
    {
     "data": {
      "text/plain": [
       "(50000, 19)"
      ]
     },
     "execution_count": 767,
     "metadata": {},
     "output_type": "execute_result"
    }
   ],
   "source": [
    "df.shape"
   ]
  },
  {
   "cell_type": "code",
   "execution_count": 768,
   "metadata": {
    "scrolled": true
   },
   "outputs": [
    {
     "data": {
      "text/html": [
       "<div>\n",
       "<style scoped>\n",
       "    .dataframe tbody tr th:only-of-type {\n",
       "        vertical-align: middle;\n",
       "    }\n",
       "\n",
       "    .dataframe tbody tr th {\n",
       "        vertical-align: top;\n",
       "    }\n",
       "\n",
       "    .dataframe thead th {\n",
       "        text-align: right;\n",
       "    }\n",
       "</style>\n",
       "<table border=\"1\" class=\"dataframe\">\n",
       "  <thead>\n",
       "    <tr style=\"text-align: right;\">\n",
       "      <th></th>\n",
       "      <th>buisness_year</th>\n",
       "      <th>doc_id</th>\n",
       "      <th>document_create_date</th>\n",
       "      <th>document_create_date.1</th>\n",
       "      <th>due_in_date</th>\n",
       "      <th>posting_id</th>\n",
       "      <th>area_business</th>\n",
       "      <th>total_open_amount</th>\n",
       "      <th>baseline_create_date</th>\n",
       "      <th>invoice_id</th>\n",
       "      <th>isOpen</th>\n",
       "    </tr>\n",
       "  </thead>\n",
       "  <tbody>\n",
       "    <tr>\n",
       "      <th>count</th>\n",
       "      <td>50000.000000</td>\n",
       "      <td>5.000000e+04</td>\n",
       "      <td>5.000000e+04</td>\n",
       "      <td>5.000000e+04</td>\n",
       "      <td>5.000000e+04</td>\n",
       "      <td>50000.0</td>\n",
       "      <td>0.0</td>\n",
       "      <td>50000.000000</td>\n",
       "      <td>5.000000e+04</td>\n",
       "      <td>4.999300e+04</td>\n",
       "      <td>50000.000000</td>\n",
       "    </tr>\n",
       "    <tr>\n",
       "      <th>mean</th>\n",
       "      <td>2019.188980</td>\n",
       "      <td>2.012941e+09</td>\n",
       "      <td>2.019236e+07</td>\n",
       "      <td>2.019239e+07</td>\n",
       "      <td>2.019255e+07</td>\n",
       "      <td>1.0</td>\n",
       "      <td>NaN</td>\n",
       "      <td>32470.811970</td>\n",
       "      <td>2.019239e+07</td>\n",
       "      <td>2.011893e+09</td>\n",
       "      <td>0.064940</td>\n",
       "    </tr>\n",
       "    <tr>\n",
       "      <th>std</th>\n",
       "      <td>0.391497</td>\n",
       "      <td>2.913356e+08</td>\n",
       "      <td>3.787563e+03</td>\n",
       "      <td>3.777712e+03</td>\n",
       "      <td>3.799784e+03</td>\n",
       "      <td>0.0</td>\n",
       "      <td>NaN</td>\n",
       "      <td>40465.220479</td>\n",
       "      <td>3.779060e+03</td>\n",
       "      <td>2.775574e+08</td>\n",
       "      <td>0.246422</td>\n",
       "    </tr>\n",
       "    <tr>\n",
       "      <th>min</th>\n",
       "      <td>2019.000000</td>\n",
       "      <td>1.928497e+09</td>\n",
       "      <td>2.018123e+07</td>\n",
       "      <td>2.018120e+07</td>\n",
       "      <td>2.018080e+07</td>\n",
       "      <td>1.0</td>\n",
       "      <td>NaN</td>\n",
       "      <td>0.700000</td>\n",
       "      <td>2.018072e+07</td>\n",
       "      <td>1.928497e+09</td>\n",
       "      <td>0.000000</td>\n",
       "    </tr>\n",
       "    <tr>\n",
       "      <th>25%</th>\n",
       "      <td>2019.000000</td>\n",
       "      <td>1.929220e+09</td>\n",
       "      <td>2.019042e+07</td>\n",
       "      <td>2.019042e+07</td>\n",
       "      <td>2.019051e+07</td>\n",
       "      <td>1.0</td>\n",
       "      <td>NaN</td>\n",
       "      <td>4718.797500</td>\n",
       "      <td>2.019042e+07</td>\n",
       "      <td>1.929220e+09</td>\n",
       "      <td>0.000000</td>\n",
       "    </tr>\n",
       "    <tr>\n",
       "      <th>50%</th>\n",
       "      <td>2019.000000</td>\n",
       "      <td>1.929791e+09</td>\n",
       "      <td>2.019080e+07</td>\n",
       "      <td>2.019080e+07</td>\n",
       "      <td>2.019082e+07</td>\n",
       "      <td>1.0</td>\n",
       "      <td>NaN</td>\n",
       "      <td>17423.915000</td>\n",
       "      <td>2.019080e+07</td>\n",
       "      <td>1.929791e+09</td>\n",
       "      <td>0.000000</td>\n",
       "    </tr>\n",
       "    <tr>\n",
       "      <th>75%</th>\n",
       "      <td>2019.000000</td>\n",
       "      <td>1.930370e+09</td>\n",
       "      <td>2.019112e+07</td>\n",
       "      <td>2.019112e+07</td>\n",
       "      <td>2.019121e+07</td>\n",
       "      <td>1.0</td>\n",
       "      <td>NaN</td>\n",
       "      <td>47019.780000</td>\n",
       "      <td>2.019112e+07</td>\n",
       "      <td>1.930369e+09</td>\n",
       "      <td>0.000000</td>\n",
       "    </tr>\n",
       "    <tr>\n",
       "      <th>max</th>\n",
       "      <td>2020.000000</td>\n",
       "      <td>9.500000e+09</td>\n",
       "      <td>2.020052e+07</td>\n",
       "      <td>2.020052e+07</td>\n",
       "      <td>2.020062e+07</td>\n",
       "      <td>1.0</td>\n",
       "      <td>NaN</td>\n",
       "      <td>860880.000000</td>\n",
       "      <td>2.020052e+07</td>\n",
       "      <td>2.960635e+09</td>\n",
       "      <td>1.000000</td>\n",
       "    </tr>\n",
       "  </tbody>\n",
       "</table>\n",
       "</div>"
      ],
      "text/plain": [
       "       buisness_year        doc_id  document_create_date  \\\n",
       "count   50000.000000  5.000000e+04          5.000000e+04   \n",
       "mean     2019.188980  2.012941e+09          2.019236e+07   \n",
       "std         0.391497  2.913356e+08          3.787563e+03   \n",
       "min      2019.000000  1.928497e+09          2.018123e+07   \n",
       "25%      2019.000000  1.929220e+09          2.019042e+07   \n",
       "50%      2019.000000  1.929791e+09          2.019080e+07   \n",
       "75%      2019.000000  1.930370e+09          2.019112e+07   \n",
       "max      2020.000000  9.500000e+09          2.020052e+07   \n",
       "\n",
       "       document_create_date.1   due_in_date  posting_id  area_business  \\\n",
       "count            5.000000e+04  5.000000e+04     50000.0            0.0   \n",
       "mean             2.019239e+07  2.019255e+07         1.0            NaN   \n",
       "std              3.777712e+03  3.799784e+03         0.0            NaN   \n",
       "min              2.018120e+07  2.018080e+07         1.0            NaN   \n",
       "25%              2.019042e+07  2.019051e+07         1.0            NaN   \n",
       "50%              2.019080e+07  2.019082e+07         1.0            NaN   \n",
       "75%              2.019112e+07  2.019121e+07         1.0            NaN   \n",
       "max              2.020052e+07  2.020062e+07         1.0            NaN   \n",
       "\n",
       "       total_open_amount  baseline_create_date    invoice_id        isOpen  \n",
       "count       50000.000000          5.000000e+04  4.999300e+04  50000.000000  \n",
       "mean        32470.811970          2.019239e+07  2.011893e+09      0.064940  \n",
       "std         40465.220479          3.779060e+03  2.775574e+08      0.246422  \n",
       "min             0.700000          2.018072e+07  1.928497e+09      0.000000  \n",
       "25%          4718.797500          2.019042e+07  1.929220e+09      0.000000  \n",
       "50%         17423.915000          2.019080e+07  1.929791e+09      0.000000  \n",
       "75%         47019.780000          2.019112e+07  1.930369e+09      0.000000  \n",
       "max        860880.000000          2.020052e+07  2.960635e+09      1.000000  "
      ]
     },
     "execution_count": 768,
     "metadata": {},
     "output_type": "execute_result"
    }
   ],
   "source": [
    "df.describe()"
   ]
  },
  {
   "cell_type": "code",
   "execution_count": 769,
   "metadata": {
    "scrolled": true
   },
   "outputs": [
    {
     "data": {
      "text/plain": [
       "business_code                 0\n",
       "cust_number                   0\n",
       "name_customer                 0\n",
       "clear_date                 3247\n",
       "buisness_year                 0\n",
       "doc_id                        0\n",
       "posting_date                  0\n",
       "document_create_date          0\n",
       "document_create_date.1        0\n",
       "due_in_date                   0\n",
       "invoice_currency              0\n",
       "document type                 0\n",
       "posting_id                    0\n",
       "area_business             50000\n",
       "total_open_amount             0\n",
       "baseline_create_date          0\n",
       "cust_payment_terms            0\n",
       "invoice_id                    7\n",
       "isOpen                        0\n",
       "dtype: int64"
      ]
     },
     "execution_count": 769,
     "metadata": {},
     "output_type": "execute_result"
    }
   ],
   "source": [
    "df.isnull().sum()"
   ]
  },
  {
   "cell_type": "markdown",
   "metadata": {},
   "source": [
    "DELETING unnecessary columns and row(Generic Method)"
   ]
  },
  {
   "cell_type": "code",
   "execution_count": 770,
   "metadata": {
    "scrolled": true
   },
   "outputs": [],
   "source": [
    "#dropping all coloumn whose all values are null"
   ]
  },
  {
   "cell_type": "code",
   "execution_count": 771,
   "metadata": {
    "scrolled": true
   },
   "outputs": [],
   "source": [
    "df.dropna(how='all',axis=1,inplace=True)"
   ]
  },
  {
   "cell_type": "code",
   "execution_count": 772,
   "metadata": {
    "scrolled": true
   },
   "outputs": [],
   "source": [
    "#dropping all rows whose all values are null"
   ]
  },
  {
   "cell_type": "code",
   "execution_count": 773,
   "metadata": {
    "scrolled": true
   },
   "outputs": [],
   "source": [
    "df.dropna(how='all',axis=0,inplace=True)"
   ]
  },
  {
   "cell_type": "code",
   "execution_count": 774,
   "metadata": {
    "scrolled": true
   },
   "outputs": [
    {
     "data": {
      "text/plain": [
       "(50000, 18)"
      ]
     },
     "execution_count": 774,
     "metadata": {},
     "output_type": "execute_result"
    }
   ],
   "source": [
    "df.shape"
   ]
  },
  {
   "cell_type": "code",
   "execution_count": 775,
   "metadata": {},
   "outputs": [
    {
     "data": {
      "text/plain": [
       "business_code                0\n",
       "cust_number                  0\n",
       "name_customer                0\n",
       "clear_date                3247\n",
       "buisness_year                0\n",
       "doc_id                       0\n",
       "posting_date                 0\n",
       "document_create_date         0\n",
       "document_create_date.1       0\n",
       "due_in_date                  0\n",
       "invoice_currency             0\n",
       "document type                0\n",
       "posting_id                   0\n",
       "total_open_amount            0\n",
       "baseline_create_date         0\n",
       "cust_payment_terms           0\n",
       "invoice_id                   7\n",
       "isOpen                       0\n",
       "dtype: int64"
      ]
     },
     "execution_count": 775,
     "metadata": {},
     "output_type": "execute_result"
    }
   ],
   "source": [
    "df.isnull().sum()"
   ]
  },
  {
   "cell_type": "markdown",
   "metadata": {},
   "source": [
    "Dropping invoice_id column"
   ]
  },
  {
   "cell_type": "code",
   "execution_count": 776,
   "metadata": {},
   "outputs": [],
   "source": [
    "df.drop(columns=['invoice_id'],inplace=True)"
   ]
  },
  {
   "cell_type": "code",
   "execution_count": 777,
   "metadata": {},
   "outputs": [
    {
     "data": {
      "text/plain": [
       "business_code                0\n",
       "cust_number                  0\n",
       "name_customer                0\n",
       "clear_date                3247\n",
       "buisness_year                0\n",
       "doc_id                       0\n",
       "posting_date                 0\n",
       "document_create_date         0\n",
       "document_create_date.1       0\n",
       "due_in_date                  0\n",
       "invoice_currency             0\n",
       "document type                0\n",
       "posting_id                   0\n",
       "total_open_amount            0\n",
       "baseline_create_date         0\n",
       "cust_payment_terms           0\n",
       "isOpen                       0\n",
       "dtype: int64"
      ]
     },
     "execution_count": 777,
     "metadata": {},
     "output_type": "execute_result"
    }
   ],
   "source": [
    "df.isnull().sum()"
   ]
  },
  {
   "cell_type": "markdown",
   "metadata": {},
   "source": [
    "Now my dataframe is free from null values except clear_date column"
   ]
  },
  {
   "cell_type": "code",
   "execution_count": 778,
   "metadata": {},
   "outputs": [
    {
     "data": {
      "text/plain": [
       "array(['RV', 'X2'], dtype=object)"
      ]
     },
     "execution_count": 778,
     "metadata": {},
     "output_type": "execute_result"
    }
   ],
   "source": [
    "df['document type'].unique()"
   ]
  },
  {
   "cell_type": "markdown",
   "metadata": {},
   "source": [
    "Changing values of document type column from string to binary values"
   ]
  },
  {
   "cell_type": "code",
   "execution_count": 779,
   "metadata": {},
   "outputs": [],
   "source": [
    "df[\"document type\"].replace({\"RV\": 1, \"X2\": 0 }, inplace=True)"
   ]
  },
  {
   "cell_type": "code",
   "execution_count": 780,
   "metadata": {},
   "outputs": [
    {
     "data": {
      "text/plain": [
       "1    49993\n",
       "0        7\n",
       "Name: document type, dtype: int64"
      ]
     },
     "execution_count": 780,
     "metadata": {},
     "output_type": "execute_result"
    }
   ],
   "source": [
    "df['document type'].value_counts()"
   ]
  },
  {
   "cell_type": "markdown",
   "metadata": {},
   "source": [
    "I am considering USD as the general currency and hence converting the value of the total_open amount to USD (some of)which are in CAD"
   ]
  },
  {
   "cell_type": "code",
   "execution_count": 781,
   "metadata": {},
   "outputs": [],
   "source": [
    "from forex_python.converter import CurrencyRates"
   ]
  },
  {
   "cell_type": "code",
   "execution_count": 782,
   "metadata": {},
   "outputs": [
    {
     "data": {
      "text/plain": [
       "array(['USD', 'CAD'], dtype=object)"
      ]
     },
     "execution_count": 782,
     "metadata": {},
     "output_type": "execute_result"
    }
   ],
   "source": [
    "df['invoice_currency'].unique()"
   ]
  },
  {
   "cell_type": "code",
   "execution_count": 783,
   "metadata": {},
   "outputs": [],
   "source": [
    "c=CurrencyRates()"
   ]
  },
  {
   "cell_type": "code",
   "execution_count": 784,
   "metadata": {},
   "outputs": [],
   "source": [
    "rate=c.get_rate('USD','CAD')"
   ]
  },
  {
   "cell_type": "code",
   "execution_count": 785,
   "metadata": {},
   "outputs": [
    {
     "data": {
      "text/plain": [
       "1.2788398154"
      ]
     },
     "execution_count": 785,
     "metadata": {},
     "output_type": "execute_result"
    }
   ],
   "source": [
    "rate"
   ]
  },
  {
   "cell_type": "code",
   "execution_count": 786,
   "metadata": {},
   "outputs": [
    {
     "name": "stderr",
     "output_type": "stream",
     "text": [
      "c:\\users\\kiit\\appdata\\local\\programs\\python\\python37\\lib\\site-packages\\pandas\\core\\indexing.py:1636: SettingWithCopyWarning: \n",
      "A value is trying to be set on a copy of a slice from a DataFrame\n",
      "\n",
      "See the caveats in the documentation: https://pandas.pydata.org/pandas-docs/stable/user_guide/indexing.html#returning-a-view-versus-a-copy\n",
      "  self._setitem_single_block(indexer, value, name)\n"
     ]
    }
   ],
   "source": [
    "df['total_open_amount'].loc[(df['invoice_currency'] == 'CAD')] = df['total_open_amount']/rate"
   ]
  },
  {
   "cell_type": "code",
   "execution_count": 787,
   "metadata": {},
   "outputs": [
    {
     "data": {
      "text/html": [
       "<div>\n",
       "<style scoped>\n",
       "    .dataframe tbody tr th:only-of-type {\n",
       "        vertical-align: middle;\n",
       "    }\n",
       "\n",
       "    .dataframe tbody tr th {\n",
       "        vertical-align: top;\n",
       "    }\n",
       "\n",
       "    .dataframe thead th {\n",
       "        text-align: right;\n",
       "    }\n",
       "</style>\n",
       "<table border=\"1\" class=\"dataframe\">\n",
       "  <thead>\n",
       "    <tr style=\"text-align: right;\">\n",
       "      <th></th>\n",
       "      <th>business_code</th>\n",
       "      <th>cust_number</th>\n",
       "      <th>name_customer</th>\n",
       "      <th>clear_date</th>\n",
       "      <th>buisness_year</th>\n",
       "      <th>doc_id</th>\n",
       "      <th>posting_date</th>\n",
       "      <th>document_create_date</th>\n",
       "      <th>document_create_date.1</th>\n",
       "      <th>due_in_date</th>\n",
       "      <th>invoice_currency</th>\n",
       "      <th>document type</th>\n",
       "      <th>posting_id</th>\n",
       "      <th>total_open_amount</th>\n",
       "      <th>baseline_create_date</th>\n",
       "      <th>cust_payment_terms</th>\n",
       "      <th>isOpen</th>\n",
       "    </tr>\n",
       "  </thead>\n",
       "  <tbody>\n",
       "    <tr>\n",
       "      <th>0</th>\n",
       "      <td>U001</td>\n",
       "      <td>0200769623</td>\n",
       "      <td>WAL-MAR us</td>\n",
       "      <td>2019-05-15 00:00:00</td>\n",
       "      <td>2019.0</td>\n",
       "      <td>1.929261e+09</td>\n",
       "      <td>2019-05-05</td>\n",
       "      <td>20190505</td>\n",
       "      <td>20190505</td>\n",
       "      <td>20190520.0</td>\n",
       "      <td>USD</td>\n",
       "      <td>1</td>\n",
       "      <td>1.0</td>\n",
       "      <td>6532.60000</td>\n",
       "      <td>20190505.0</td>\n",
       "      <td>NAH4</td>\n",
       "      <td>0</td>\n",
       "    </tr>\n",
       "    <tr>\n",
       "      <th>1</th>\n",
       "      <td>U001</td>\n",
       "      <td>0200769623</td>\n",
       "      <td>WAL-MAR</td>\n",
       "      <td>2019-10-22 00:00:00</td>\n",
       "      <td>2019.0</td>\n",
       "      <td>1.929996e+09</td>\n",
       "      <td>2019-10-12</td>\n",
       "      <td>20191010</td>\n",
       "      <td>20191012</td>\n",
       "      <td>20191027.0</td>\n",
       "      <td>USD</td>\n",
       "      <td>1</td>\n",
       "      <td>1.0</td>\n",
       "      <td>9890.75000</td>\n",
       "      <td>20191012.0</td>\n",
       "      <td>NAH4</td>\n",
       "      <td>0</td>\n",
       "    </tr>\n",
       "    <tr>\n",
       "      <th>2</th>\n",
       "      <td>CA02</td>\n",
       "      <td>0140104429</td>\n",
       "      <td>COSTCO foundation</td>\n",
       "      <td>2019-04-04 00:00:00</td>\n",
       "      <td>2019.0</td>\n",
       "      <td>2.960536e+09</td>\n",
       "      <td>2019-03-23</td>\n",
       "      <td>20190323</td>\n",
       "      <td>20190323</td>\n",
       "      <td>20190403.0</td>\n",
       "      <td>CAD</td>\n",
       "      <td>1</td>\n",
       "      <td>1.0</td>\n",
       "      <td>57129.29729</td>\n",
       "      <td>20190324.0</td>\n",
       "      <td>CA10</td>\n",
       "      <td>0</td>\n",
       "    </tr>\n",
       "    <tr>\n",
       "      <th>3</th>\n",
       "      <td>U001</td>\n",
       "      <td>0200769623</td>\n",
       "      <td>WAL-MAR corp</td>\n",
       "      <td>2019-12-10 00:00:00</td>\n",
       "      <td>2019.0</td>\n",
       "      <td>1.930203e+09</td>\n",
       "      <td>2019-11-27</td>\n",
       "      <td>20191127</td>\n",
       "      <td>20191127</td>\n",
       "      <td>20191212.0</td>\n",
       "      <td>USD</td>\n",
       "      <td>1</td>\n",
       "      <td>1.0</td>\n",
       "      <td>12219.74000</td>\n",
       "      <td>20191127.0</td>\n",
       "      <td>NAH4</td>\n",
       "      <td>0</td>\n",
       "    </tr>\n",
       "    <tr>\n",
       "      <th>4</th>\n",
       "      <td>U001</td>\n",
       "      <td>0200769623</td>\n",
       "      <td>WAL-MAR corp</td>\n",
       "      <td>2019-07-08 00:00:00</td>\n",
       "      <td>2019.0</td>\n",
       "      <td>1.929540e+09</td>\n",
       "      <td>2019-06-27</td>\n",
       "      <td>20190625</td>\n",
       "      <td>20190627</td>\n",
       "      <td>20190712.0</td>\n",
       "      <td>USD</td>\n",
       "      <td>1</td>\n",
       "      <td>1.0</td>\n",
       "      <td>1897.50000</td>\n",
       "      <td>20190627.0</td>\n",
       "      <td>NAH4</td>\n",
       "      <td>0</td>\n",
       "    </tr>\n",
       "  </tbody>\n",
       "</table>\n",
       "</div>"
      ],
      "text/plain": [
       "  business_code cust_number      name_customer           clear_date  \\\n",
       "0          U001  0200769623         WAL-MAR us  2019-05-15 00:00:00   \n",
       "1          U001  0200769623           WAL-MAR   2019-10-22 00:00:00   \n",
       "2          CA02  0140104429  COSTCO foundation  2019-04-04 00:00:00   \n",
       "3          U001  0200769623       WAL-MAR corp  2019-12-10 00:00:00   \n",
       "4          U001  0200769623       WAL-MAR corp  2019-07-08 00:00:00   \n",
       "\n",
       "   buisness_year        doc_id posting_date  document_create_date  \\\n",
       "0         2019.0  1.929261e+09   2019-05-05              20190505   \n",
       "1         2019.0  1.929996e+09   2019-10-12              20191010   \n",
       "2         2019.0  2.960536e+09   2019-03-23              20190323   \n",
       "3         2019.0  1.930203e+09   2019-11-27              20191127   \n",
       "4         2019.0  1.929540e+09   2019-06-27              20190625   \n",
       "\n",
       "   document_create_date.1  due_in_date invoice_currency  document type  \\\n",
       "0                20190505   20190520.0              USD              1   \n",
       "1                20191012   20191027.0              USD              1   \n",
       "2                20190323   20190403.0              CAD              1   \n",
       "3                20191127   20191212.0              USD              1   \n",
       "4                20190627   20190712.0              USD              1   \n",
       "\n",
       "   posting_id  total_open_amount  baseline_create_date cust_payment_terms  \\\n",
       "0         1.0         6532.60000            20190505.0               NAH4   \n",
       "1         1.0         9890.75000            20191012.0               NAH4   \n",
       "2         1.0        57129.29729            20190324.0               CA10   \n",
       "3         1.0        12219.74000            20191127.0               NAH4   \n",
       "4         1.0         1897.50000            20190627.0               NAH4   \n",
       "\n",
       "   isOpen  \n",
       "0       0  \n",
       "1       0  \n",
       "2       0  \n",
       "3       0  \n",
       "4       0  "
      ]
     },
     "execution_count": 787,
     "metadata": {},
     "output_type": "execute_result"
    }
   ],
   "source": [
    "df.head()"
   ]
  },
  {
   "cell_type": "markdown",
   "metadata": {},
   "source": [
    "Changing invoice_currency column name to region"
   ]
  },
  {
   "cell_type": "code",
   "execution_count": 788,
   "metadata": {},
   "outputs": [],
   "source": [
    "df=df.rename(columns={\"invoice_currency\": \"Region\"})"
   ]
  },
  {
   "cell_type": "code",
   "execution_count": 789,
   "metadata": {},
   "outputs": [
    {
     "data": {
      "text/html": [
       "<div>\n",
       "<style scoped>\n",
       "    .dataframe tbody tr th:only-of-type {\n",
       "        vertical-align: middle;\n",
       "    }\n",
       "\n",
       "    .dataframe tbody tr th {\n",
       "        vertical-align: top;\n",
       "    }\n",
       "\n",
       "    .dataframe thead th {\n",
       "        text-align: right;\n",
       "    }\n",
       "</style>\n",
       "<table border=\"1\" class=\"dataframe\">\n",
       "  <thead>\n",
       "    <tr style=\"text-align: right;\">\n",
       "      <th></th>\n",
       "      <th>business_code</th>\n",
       "      <th>cust_number</th>\n",
       "      <th>name_customer</th>\n",
       "      <th>clear_date</th>\n",
       "      <th>buisness_year</th>\n",
       "      <th>doc_id</th>\n",
       "      <th>posting_date</th>\n",
       "      <th>document_create_date</th>\n",
       "      <th>document_create_date.1</th>\n",
       "      <th>due_in_date</th>\n",
       "      <th>Region</th>\n",
       "      <th>document type</th>\n",
       "      <th>posting_id</th>\n",
       "      <th>total_open_amount</th>\n",
       "      <th>baseline_create_date</th>\n",
       "      <th>cust_payment_terms</th>\n",
       "      <th>isOpen</th>\n",
       "    </tr>\n",
       "  </thead>\n",
       "  <tbody>\n",
       "    <tr>\n",
       "      <th>0</th>\n",
       "      <td>U001</td>\n",
       "      <td>0200769623</td>\n",
       "      <td>WAL-MAR us</td>\n",
       "      <td>2019-05-15 00:00:00</td>\n",
       "      <td>2019.0</td>\n",
       "      <td>1.929261e+09</td>\n",
       "      <td>2019-05-05</td>\n",
       "      <td>20190505</td>\n",
       "      <td>20190505</td>\n",
       "      <td>20190520.0</td>\n",
       "      <td>USD</td>\n",
       "      <td>1</td>\n",
       "      <td>1.0</td>\n",
       "      <td>6532.60000</td>\n",
       "      <td>20190505.0</td>\n",
       "      <td>NAH4</td>\n",
       "      <td>0</td>\n",
       "    </tr>\n",
       "    <tr>\n",
       "      <th>1</th>\n",
       "      <td>U001</td>\n",
       "      <td>0200769623</td>\n",
       "      <td>WAL-MAR</td>\n",
       "      <td>2019-10-22 00:00:00</td>\n",
       "      <td>2019.0</td>\n",
       "      <td>1.929996e+09</td>\n",
       "      <td>2019-10-12</td>\n",
       "      <td>20191010</td>\n",
       "      <td>20191012</td>\n",
       "      <td>20191027.0</td>\n",
       "      <td>USD</td>\n",
       "      <td>1</td>\n",
       "      <td>1.0</td>\n",
       "      <td>9890.75000</td>\n",
       "      <td>20191012.0</td>\n",
       "      <td>NAH4</td>\n",
       "      <td>0</td>\n",
       "    </tr>\n",
       "    <tr>\n",
       "      <th>2</th>\n",
       "      <td>CA02</td>\n",
       "      <td>0140104429</td>\n",
       "      <td>COSTCO foundation</td>\n",
       "      <td>2019-04-04 00:00:00</td>\n",
       "      <td>2019.0</td>\n",
       "      <td>2.960536e+09</td>\n",
       "      <td>2019-03-23</td>\n",
       "      <td>20190323</td>\n",
       "      <td>20190323</td>\n",
       "      <td>20190403.0</td>\n",
       "      <td>CAD</td>\n",
       "      <td>1</td>\n",
       "      <td>1.0</td>\n",
       "      <td>57129.29729</td>\n",
       "      <td>20190324.0</td>\n",
       "      <td>CA10</td>\n",
       "      <td>0</td>\n",
       "    </tr>\n",
       "    <tr>\n",
       "      <th>3</th>\n",
       "      <td>U001</td>\n",
       "      <td>0200769623</td>\n",
       "      <td>WAL-MAR corp</td>\n",
       "      <td>2019-12-10 00:00:00</td>\n",
       "      <td>2019.0</td>\n",
       "      <td>1.930203e+09</td>\n",
       "      <td>2019-11-27</td>\n",
       "      <td>20191127</td>\n",
       "      <td>20191127</td>\n",
       "      <td>20191212.0</td>\n",
       "      <td>USD</td>\n",
       "      <td>1</td>\n",
       "      <td>1.0</td>\n",
       "      <td>12219.74000</td>\n",
       "      <td>20191127.0</td>\n",
       "      <td>NAH4</td>\n",
       "      <td>0</td>\n",
       "    </tr>\n",
       "    <tr>\n",
       "      <th>4</th>\n",
       "      <td>U001</td>\n",
       "      <td>0200769623</td>\n",
       "      <td>WAL-MAR corp</td>\n",
       "      <td>2019-07-08 00:00:00</td>\n",
       "      <td>2019.0</td>\n",
       "      <td>1.929540e+09</td>\n",
       "      <td>2019-06-27</td>\n",
       "      <td>20190625</td>\n",
       "      <td>20190627</td>\n",
       "      <td>20190712.0</td>\n",
       "      <td>USD</td>\n",
       "      <td>1</td>\n",
       "      <td>1.0</td>\n",
       "      <td>1897.50000</td>\n",
       "      <td>20190627.0</td>\n",
       "      <td>NAH4</td>\n",
       "      <td>0</td>\n",
       "    </tr>\n",
       "  </tbody>\n",
       "</table>\n",
       "</div>"
      ],
      "text/plain": [
       "  business_code cust_number      name_customer           clear_date  \\\n",
       "0          U001  0200769623         WAL-MAR us  2019-05-15 00:00:00   \n",
       "1          U001  0200769623           WAL-MAR   2019-10-22 00:00:00   \n",
       "2          CA02  0140104429  COSTCO foundation  2019-04-04 00:00:00   \n",
       "3          U001  0200769623       WAL-MAR corp  2019-12-10 00:00:00   \n",
       "4          U001  0200769623       WAL-MAR corp  2019-07-08 00:00:00   \n",
       "\n",
       "   buisness_year        doc_id posting_date  document_create_date  \\\n",
       "0         2019.0  1.929261e+09   2019-05-05              20190505   \n",
       "1         2019.0  1.929996e+09   2019-10-12              20191010   \n",
       "2         2019.0  2.960536e+09   2019-03-23              20190323   \n",
       "3         2019.0  1.930203e+09   2019-11-27              20191127   \n",
       "4         2019.0  1.929540e+09   2019-06-27              20190625   \n",
       "\n",
       "   document_create_date.1  due_in_date Region  document type  posting_id  \\\n",
       "0                20190505   20190520.0    USD              1         1.0   \n",
       "1                20191012   20191027.0    USD              1         1.0   \n",
       "2                20190323   20190403.0    CAD              1         1.0   \n",
       "3                20191127   20191212.0    USD              1         1.0   \n",
       "4                20190627   20190712.0    USD              1         1.0   \n",
       "\n",
       "   total_open_amount  baseline_create_date cust_payment_terms  isOpen  \n",
       "0         6532.60000            20190505.0               NAH4       0  \n",
       "1         9890.75000            20191012.0               NAH4       0  \n",
       "2        57129.29729            20190324.0               CA10       0  \n",
       "3        12219.74000            20191127.0               NAH4       0  \n",
       "4         1897.50000            20190627.0               NAH4       0  "
      ]
     },
     "execution_count": 789,
     "metadata": {},
     "output_type": "execute_result"
    }
   ],
   "source": [
    "df.head()"
   ]
  },
  {
   "cell_type": "markdown",
   "metadata": {},
   "source": [
    "Changing values of Region (Previously invoice_currency) column from string to binary values"
   ]
  },
  {
   "cell_type": "code",
   "execution_count": 790,
   "metadata": {},
   "outputs": [],
   "source": [
    "df[\"Region\"].replace({\"USD\": 1, \"CAD\": 0 }, inplace=True)"
   ]
  },
  {
   "cell_type": "code",
   "execution_count": 791,
   "metadata": {},
   "outputs": [
    {
     "data": {
      "text/html": [
       "<div>\n",
       "<style scoped>\n",
       "    .dataframe tbody tr th:only-of-type {\n",
       "        vertical-align: middle;\n",
       "    }\n",
       "\n",
       "    .dataframe tbody tr th {\n",
       "        vertical-align: top;\n",
       "    }\n",
       "\n",
       "    .dataframe thead th {\n",
       "        text-align: right;\n",
       "    }\n",
       "</style>\n",
       "<table border=\"1\" class=\"dataframe\">\n",
       "  <thead>\n",
       "    <tr style=\"text-align: right;\">\n",
       "      <th></th>\n",
       "      <th>business_code</th>\n",
       "      <th>cust_number</th>\n",
       "      <th>name_customer</th>\n",
       "      <th>clear_date</th>\n",
       "      <th>buisness_year</th>\n",
       "      <th>doc_id</th>\n",
       "      <th>posting_date</th>\n",
       "      <th>document_create_date</th>\n",
       "      <th>document_create_date.1</th>\n",
       "      <th>due_in_date</th>\n",
       "      <th>Region</th>\n",
       "      <th>document type</th>\n",
       "      <th>posting_id</th>\n",
       "      <th>total_open_amount</th>\n",
       "      <th>baseline_create_date</th>\n",
       "      <th>cust_payment_terms</th>\n",
       "      <th>isOpen</th>\n",
       "    </tr>\n",
       "  </thead>\n",
       "  <tbody>\n",
       "    <tr>\n",
       "      <th>0</th>\n",
       "      <td>U001</td>\n",
       "      <td>0200769623</td>\n",
       "      <td>WAL-MAR us</td>\n",
       "      <td>2019-05-15 00:00:00</td>\n",
       "      <td>2019.0</td>\n",
       "      <td>1.929261e+09</td>\n",
       "      <td>2019-05-05</td>\n",
       "      <td>20190505</td>\n",
       "      <td>20190505</td>\n",
       "      <td>20190520.0</td>\n",
       "      <td>1</td>\n",
       "      <td>1</td>\n",
       "      <td>1.0</td>\n",
       "      <td>6532.60000</td>\n",
       "      <td>20190505.0</td>\n",
       "      <td>NAH4</td>\n",
       "      <td>0</td>\n",
       "    </tr>\n",
       "    <tr>\n",
       "      <th>1</th>\n",
       "      <td>U001</td>\n",
       "      <td>0200769623</td>\n",
       "      <td>WAL-MAR</td>\n",
       "      <td>2019-10-22 00:00:00</td>\n",
       "      <td>2019.0</td>\n",
       "      <td>1.929996e+09</td>\n",
       "      <td>2019-10-12</td>\n",
       "      <td>20191010</td>\n",
       "      <td>20191012</td>\n",
       "      <td>20191027.0</td>\n",
       "      <td>1</td>\n",
       "      <td>1</td>\n",
       "      <td>1.0</td>\n",
       "      <td>9890.75000</td>\n",
       "      <td>20191012.0</td>\n",
       "      <td>NAH4</td>\n",
       "      <td>0</td>\n",
       "    </tr>\n",
       "    <tr>\n",
       "      <th>2</th>\n",
       "      <td>CA02</td>\n",
       "      <td>0140104429</td>\n",
       "      <td>COSTCO foundation</td>\n",
       "      <td>2019-04-04 00:00:00</td>\n",
       "      <td>2019.0</td>\n",
       "      <td>2.960536e+09</td>\n",
       "      <td>2019-03-23</td>\n",
       "      <td>20190323</td>\n",
       "      <td>20190323</td>\n",
       "      <td>20190403.0</td>\n",
       "      <td>0</td>\n",
       "      <td>1</td>\n",
       "      <td>1.0</td>\n",
       "      <td>57129.29729</td>\n",
       "      <td>20190324.0</td>\n",
       "      <td>CA10</td>\n",
       "      <td>0</td>\n",
       "    </tr>\n",
       "    <tr>\n",
       "      <th>3</th>\n",
       "      <td>U001</td>\n",
       "      <td>0200769623</td>\n",
       "      <td>WAL-MAR corp</td>\n",
       "      <td>2019-12-10 00:00:00</td>\n",
       "      <td>2019.0</td>\n",
       "      <td>1.930203e+09</td>\n",
       "      <td>2019-11-27</td>\n",
       "      <td>20191127</td>\n",
       "      <td>20191127</td>\n",
       "      <td>20191212.0</td>\n",
       "      <td>1</td>\n",
       "      <td>1</td>\n",
       "      <td>1.0</td>\n",
       "      <td>12219.74000</td>\n",
       "      <td>20191127.0</td>\n",
       "      <td>NAH4</td>\n",
       "      <td>0</td>\n",
       "    </tr>\n",
       "    <tr>\n",
       "      <th>4</th>\n",
       "      <td>U001</td>\n",
       "      <td>0200769623</td>\n",
       "      <td>WAL-MAR corp</td>\n",
       "      <td>2019-07-08 00:00:00</td>\n",
       "      <td>2019.0</td>\n",
       "      <td>1.929540e+09</td>\n",
       "      <td>2019-06-27</td>\n",
       "      <td>20190625</td>\n",
       "      <td>20190627</td>\n",
       "      <td>20190712.0</td>\n",
       "      <td>1</td>\n",
       "      <td>1</td>\n",
       "      <td>1.0</td>\n",
       "      <td>1897.50000</td>\n",
       "      <td>20190627.0</td>\n",
       "      <td>NAH4</td>\n",
       "      <td>0</td>\n",
       "    </tr>\n",
       "  </tbody>\n",
       "</table>\n",
       "</div>"
      ],
      "text/plain": [
       "  business_code cust_number      name_customer           clear_date  \\\n",
       "0          U001  0200769623         WAL-MAR us  2019-05-15 00:00:00   \n",
       "1          U001  0200769623           WAL-MAR   2019-10-22 00:00:00   \n",
       "2          CA02  0140104429  COSTCO foundation  2019-04-04 00:00:00   \n",
       "3          U001  0200769623       WAL-MAR corp  2019-12-10 00:00:00   \n",
       "4          U001  0200769623       WAL-MAR corp  2019-07-08 00:00:00   \n",
       "\n",
       "   buisness_year        doc_id posting_date  document_create_date  \\\n",
       "0         2019.0  1.929261e+09   2019-05-05              20190505   \n",
       "1         2019.0  1.929996e+09   2019-10-12              20191010   \n",
       "2         2019.0  2.960536e+09   2019-03-23              20190323   \n",
       "3         2019.0  1.930203e+09   2019-11-27              20191127   \n",
       "4         2019.0  1.929540e+09   2019-06-27              20190625   \n",
       "\n",
       "   document_create_date.1  due_in_date  Region  document type  posting_id  \\\n",
       "0                20190505   20190520.0       1              1         1.0   \n",
       "1                20191012   20191027.0       1              1         1.0   \n",
       "2                20190323   20190403.0       0              1         1.0   \n",
       "3                20191127   20191212.0       1              1         1.0   \n",
       "4                20190627   20190712.0       1              1         1.0   \n",
       "\n",
       "   total_open_amount  baseline_create_date cust_payment_terms  isOpen  \n",
       "0         6532.60000            20190505.0               NAH4       0  \n",
       "1         9890.75000            20191012.0               NAH4       0  \n",
       "2        57129.29729            20190324.0               CA10       0  \n",
       "3        12219.74000            20191127.0               NAH4       0  \n",
       "4         1897.50000            20190627.0               NAH4       0  "
      ]
     },
     "execution_count": 791,
     "metadata": {},
     "output_type": "execute_result"
    }
   ],
   "source": [
    "df.head()"
   ]
  },
  {
   "cell_type": "markdown",
   "metadata": {},
   "source": [
    "Checking type of unique values in posting_id column"
   ]
  },
  {
   "cell_type": "code",
   "execution_count": 792,
   "metadata": {},
   "outputs": [
    {
     "data": {
      "text/plain": [
       "1.0    50000\n",
       "Name: posting_id, dtype: int64"
      ]
     },
     "execution_count": 792,
     "metadata": {},
     "output_type": "execute_result"
    }
   ],
   "source": [
    "df.posting_id.value_counts()"
   ]
  },
  {
   "cell_type": "markdown",
   "metadata": {},
   "source": [
    "As all the values are same I am dropping this column"
   ]
  },
  {
   "cell_type": "code",
   "execution_count": 793,
   "metadata": {},
   "outputs": [],
   "source": [
    "df.drop(columns=['posting_id'],inplace=True)"
   ]
  },
  {
   "cell_type": "code",
   "execution_count": 794,
   "metadata": {},
   "outputs": [
    {
     "data": {
      "text/html": [
       "<div>\n",
       "<style scoped>\n",
       "    .dataframe tbody tr th:only-of-type {\n",
       "        vertical-align: middle;\n",
       "    }\n",
       "\n",
       "    .dataframe tbody tr th {\n",
       "        vertical-align: top;\n",
       "    }\n",
       "\n",
       "    .dataframe thead th {\n",
       "        text-align: right;\n",
       "    }\n",
       "</style>\n",
       "<table border=\"1\" class=\"dataframe\">\n",
       "  <thead>\n",
       "    <tr style=\"text-align: right;\">\n",
       "      <th></th>\n",
       "      <th>business_code</th>\n",
       "      <th>cust_number</th>\n",
       "      <th>name_customer</th>\n",
       "      <th>clear_date</th>\n",
       "      <th>buisness_year</th>\n",
       "      <th>doc_id</th>\n",
       "      <th>posting_date</th>\n",
       "      <th>document_create_date</th>\n",
       "      <th>document_create_date.1</th>\n",
       "      <th>due_in_date</th>\n",
       "      <th>Region</th>\n",
       "      <th>document type</th>\n",
       "      <th>total_open_amount</th>\n",
       "      <th>baseline_create_date</th>\n",
       "      <th>cust_payment_terms</th>\n",
       "      <th>isOpen</th>\n",
       "    </tr>\n",
       "  </thead>\n",
       "  <tbody>\n",
       "    <tr>\n",
       "      <th>0</th>\n",
       "      <td>U001</td>\n",
       "      <td>0200769623</td>\n",
       "      <td>WAL-MAR us</td>\n",
       "      <td>2019-05-15 00:00:00</td>\n",
       "      <td>2019.0</td>\n",
       "      <td>1.929261e+09</td>\n",
       "      <td>2019-05-05</td>\n",
       "      <td>20190505</td>\n",
       "      <td>20190505</td>\n",
       "      <td>20190520.0</td>\n",
       "      <td>1</td>\n",
       "      <td>1</td>\n",
       "      <td>6532.60000</td>\n",
       "      <td>20190505.0</td>\n",
       "      <td>NAH4</td>\n",
       "      <td>0</td>\n",
       "    </tr>\n",
       "    <tr>\n",
       "      <th>1</th>\n",
       "      <td>U001</td>\n",
       "      <td>0200769623</td>\n",
       "      <td>WAL-MAR</td>\n",
       "      <td>2019-10-22 00:00:00</td>\n",
       "      <td>2019.0</td>\n",
       "      <td>1.929996e+09</td>\n",
       "      <td>2019-10-12</td>\n",
       "      <td>20191010</td>\n",
       "      <td>20191012</td>\n",
       "      <td>20191027.0</td>\n",
       "      <td>1</td>\n",
       "      <td>1</td>\n",
       "      <td>9890.75000</td>\n",
       "      <td>20191012.0</td>\n",
       "      <td>NAH4</td>\n",
       "      <td>0</td>\n",
       "    </tr>\n",
       "    <tr>\n",
       "      <th>2</th>\n",
       "      <td>CA02</td>\n",
       "      <td>0140104429</td>\n",
       "      <td>COSTCO foundation</td>\n",
       "      <td>2019-04-04 00:00:00</td>\n",
       "      <td>2019.0</td>\n",
       "      <td>2.960536e+09</td>\n",
       "      <td>2019-03-23</td>\n",
       "      <td>20190323</td>\n",
       "      <td>20190323</td>\n",
       "      <td>20190403.0</td>\n",
       "      <td>0</td>\n",
       "      <td>1</td>\n",
       "      <td>57129.29729</td>\n",
       "      <td>20190324.0</td>\n",
       "      <td>CA10</td>\n",
       "      <td>0</td>\n",
       "    </tr>\n",
       "    <tr>\n",
       "      <th>3</th>\n",
       "      <td>U001</td>\n",
       "      <td>0200769623</td>\n",
       "      <td>WAL-MAR corp</td>\n",
       "      <td>2019-12-10 00:00:00</td>\n",
       "      <td>2019.0</td>\n",
       "      <td>1.930203e+09</td>\n",
       "      <td>2019-11-27</td>\n",
       "      <td>20191127</td>\n",
       "      <td>20191127</td>\n",
       "      <td>20191212.0</td>\n",
       "      <td>1</td>\n",
       "      <td>1</td>\n",
       "      <td>12219.74000</td>\n",
       "      <td>20191127.0</td>\n",
       "      <td>NAH4</td>\n",
       "      <td>0</td>\n",
       "    </tr>\n",
       "    <tr>\n",
       "      <th>4</th>\n",
       "      <td>U001</td>\n",
       "      <td>0200769623</td>\n",
       "      <td>WAL-MAR corp</td>\n",
       "      <td>2019-07-08 00:00:00</td>\n",
       "      <td>2019.0</td>\n",
       "      <td>1.929540e+09</td>\n",
       "      <td>2019-06-27</td>\n",
       "      <td>20190625</td>\n",
       "      <td>20190627</td>\n",
       "      <td>20190712.0</td>\n",
       "      <td>1</td>\n",
       "      <td>1</td>\n",
       "      <td>1897.50000</td>\n",
       "      <td>20190627.0</td>\n",
       "      <td>NAH4</td>\n",
       "      <td>0</td>\n",
       "    </tr>\n",
       "  </tbody>\n",
       "</table>\n",
       "</div>"
      ],
      "text/plain": [
       "  business_code cust_number      name_customer           clear_date  \\\n",
       "0          U001  0200769623         WAL-MAR us  2019-05-15 00:00:00   \n",
       "1          U001  0200769623           WAL-MAR   2019-10-22 00:00:00   \n",
       "2          CA02  0140104429  COSTCO foundation  2019-04-04 00:00:00   \n",
       "3          U001  0200769623       WAL-MAR corp  2019-12-10 00:00:00   \n",
       "4          U001  0200769623       WAL-MAR corp  2019-07-08 00:00:00   \n",
       "\n",
       "   buisness_year        doc_id posting_date  document_create_date  \\\n",
       "0         2019.0  1.929261e+09   2019-05-05              20190505   \n",
       "1         2019.0  1.929996e+09   2019-10-12              20191010   \n",
       "2         2019.0  2.960536e+09   2019-03-23              20190323   \n",
       "3         2019.0  1.930203e+09   2019-11-27              20191127   \n",
       "4         2019.0  1.929540e+09   2019-06-27              20190625   \n",
       "\n",
       "   document_create_date.1  due_in_date  Region  document type  \\\n",
       "0                20190505   20190520.0       1              1   \n",
       "1                20191012   20191027.0       1              1   \n",
       "2                20190323   20190403.0       0              1   \n",
       "3                20191127   20191212.0       1              1   \n",
       "4                20190627   20190712.0       1              1   \n",
       "\n",
       "   total_open_amount  baseline_create_date cust_payment_terms  isOpen  \n",
       "0         6532.60000            20190505.0               NAH4       0  \n",
       "1         9890.75000            20191012.0               NAH4       0  \n",
       "2        57129.29729            20190324.0               CA10       0  \n",
       "3        12219.74000            20191127.0               NAH4       0  \n",
       "4         1897.50000            20190627.0               NAH4       0  "
      ]
     },
     "execution_count": 794,
     "metadata": {},
     "output_type": "execute_result"
    }
   ],
   "source": [
    "df.head()"
   ]
  },
  {
   "cell_type": "code",
   "execution_count": 795,
   "metadata": {},
   "outputs": [
    {
     "data": {
      "text/plain": [
       "(50000, 16)"
      ]
     },
     "execution_count": 795,
     "metadata": {},
     "output_type": "execute_result"
    }
   ],
   "source": [
    "df.shape"
   ]
  },
  {
   "cell_type": "markdown",
   "metadata": {},
   "source": [
    "Checking the datatype of clear_date,posting_date,document_create_date,document_create_date.1,due_in_date,baseline_create_date"
   ]
  },
  {
   "cell_type": "code",
   "execution_count": 796,
   "metadata": {},
   "outputs": [
    {
     "name": "stdout",
     "output_type": "stream",
     "text": [
      "<class 'pandas.core.frame.DataFrame'>\n",
      "Int64Index: 50000 entries, 0 to 49999\n",
      "Data columns (total 16 columns):\n",
      " #   Column                  Non-Null Count  Dtype  \n",
      "---  ------                  --------------  -----  \n",
      " 0   business_code           50000 non-null  object \n",
      " 1   cust_number             50000 non-null  object \n",
      " 2   name_customer           50000 non-null  object \n",
      " 3   clear_date              46753 non-null  object \n",
      " 4   buisness_year           50000 non-null  float64\n",
      " 5   doc_id                  50000 non-null  float64\n",
      " 6   posting_date            50000 non-null  object \n",
      " 7   document_create_date    50000 non-null  int64  \n",
      " 8   document_create_date.1  50000 non-null  int64  \n",
      " 9   due_in_date             50000 non-null  float64\n",
      " 10  Region                  50000 non-null  int64  \n",
      " 11  document type           50000 non-null  int64  \n",
      " 12  total_open_amount       50000 non-null  float64\n",
      " 13  baseline_create_date    50000 non-null  float64\n",
      " 14  cust_payment_terms      50000 non-null  object \n",
      " 15  isOpen                  50000 non-null  int64  \n",
      "dtypes: float64(5), int64(5), object(6)\n",
      "memory usage: 7.5+ MB\n"
     ]
    }
   ],
   "source": [
    "df.info()"
   ]
  },
  {
   "cell_type": "markdown",
   "metadata": {},
   "source": [
    "Converting datatype of clear_date to datatime"
   ]
  },
  {
   "cell_type": "code",
   "execution_count": 797,
   "metadata": {},
   "outputs": [],
   "source": [
    "df['clear_date']=pd.to_datetime(df.clear_date)"
   ]
  },
  {
   "cell_type": "markdown",
   "metadata": {},
   "source": [
    "Converting datatype of posting_date to datatime"
   ]
  },
  {
   "cell_type": "code",
   "execution_count": 798,
   "metadata": {},
   "outputs": [],
   "source": [
    "df['posting_date']=pd.to_datetime(df.posting_date)"
   ]
  },
  {
   "cell_type": "markdown",
   "metadata": {},
   "source": [
    "Converting datatype of document_create_date to datatime"
   ]
  },
  {
   "cell_type": "code",
   "execution_count": 799,
   "metadata": {},
   "outputs": [],
   "source": [
    "df['document_create_date'] = pd.to_datetime(df['document_create_date'].astype(str), format='%Y%m%d')"
   ]
  },
  {
   "cell_type": "markdown",
   "metadata": {},
   "source": [
    "Converting datatype of document_create_date.1 to datatime"
   ]
  },
  {
   "cell_type": "code",
   "execution_count": 800,
   "metadata": {},
   "outputs": [],
   "source": [
    "df['document_create_date.1'] = pd.to_datetime(df['document_create_date.1'].astype(str), format='%Y%m%d')"
   ]
  },
  {
   "cell_type": "markdown",
   "metadata": {},
   "source": [
    "Converting datatype of due_in_date to datatime"
   ]
  },
  {
   "cell_type": "code",
   "execution_count": 801,
   "metadata": {},
   "outputs": [],
   "source": [
    "df['due_in_date'] = pd.to_datetime(df['due_in_date'], format='%Y%m%d')"
   ]
  },
  {
   "cell_type": "markdown",
   "metadata": {},
   "source": [
    "Converting datatype of baseline_create_date to datatime"
   ]
  },
  {
   "cell_type": "code",
   "execution_count": 802,
   "metadata": {},
   "outputs": [],
   "source": [
    "df['baseline_create_date'] = pd.to_datetime(df['baseline_create_date'], format='%Y%m%d')"
   ]
  },
  {
   "cell_type": "code",
   "execution_count": 803,
   "metadata": {},
   "outputs": [
    {
     "name": "stdout",
     "output_type": "stream",
     "text": [
      "<class 'pandas.core.frame.DataFrame'>\n",
      "Int64Index: 50000 entries, 0 to 49999\n",
      "Data columns (total 16 columns):\n",
      " #   Column                  Non-Null Count  Dtype         \n",
      "---  ------                  --------------  -----         \n",
      " 0   business_code           50000 non-null  object        \n",
      " 1   cust_number             50000 non-null  object        \n",
      " 2   name_customer           50000 non-null  object        \n",
      " 3   clear_date              46753 non-null  datetime64[ns]\n",
      " 4   buisness_year           50000 non-null  float64       \n",
      " 5   doc_id                  50000 non-null  float64       \n",
      " 6   posting_date            50000 non-null  datetime64[ns]\n",
      " 7   document_create_date    50000 non-null  datetime64[ns]\n",
      " 8   document_create_date.1  50000 non-null  datetime64[ns]\n",
      " 9   due_in_date             50000 non-null  datetime64[ns]\n",
      " 10  Region                  50000 non-null  int64         \n",
      " 11  document type           50000 non-null  int64         \n",
      " 12  total_open_amount       50000 non-null  float64       \n",
      " 13  baseline_create_date    50000 non-null  datetime64[ns]\n",
      " 14  cust_payment_terms      50000 non-null  object        \n",
      " 15  isOpen                  50000 non-null  int64         \n",
      "dtypes: datetime64[ns](6), float64(3), int64(3), object(4)\n",
      "memory usage: 7.5+ MB\n"
     ]
    }
   ],
   "source": [
    "df.info()"
   ]
  },
  {
   "cell_type": "markdown",
   "metadata": {},
   "source": [
    "Checking if there is an anamoly between clear_date and document_create_date"
   ]
  },
  {
   "cell_type": "code",
   "execution_count": 804,
   "metadata": {},
   "outputs": [
    {
     "data": {
      "text/plain": [
       "Int64Index([], dtype='int64')"
      ]
     },
     "execution_count": 804,
     "metadata": {},
     "output_type": "execute_result"
    }
   ],
   "source": [
    "df.index[df.clear_date < df.document_create_date]"
   ]
  },
  {
   "cell_type": "markdown",
   "metadata": {},
   "source": [
    "No anomaly found between clear_date and document_create_date"
   ]
  },
  {
   "cell_type": "markdown",
   "metadata": {},
   "source": [
    "Checking if there is an anamoly between clear_date and document_create_date.1"
   ]
  },
  {
   "cell_type": "code",
   "execution_count": 805,
   "metadata": {},
   "outputs": [
    {
     "data": {
      "text/plain": [
       "Int64Index([], dtype='int64')"
      ]
     },
     "execution_count": 805,
     "metadata": {},
     "output_type": "execute_result"
    }
   ],
   "source": [
    "df.index[df['clear_date'] < df['document_create_date.1']]"
   ]
  },
  {
   "cell_type": "markdown",
   "metadata": {},
   "source": [
    "No anomaly found between clear_date and document_create_date.1"
   ]
  },
  {
   "cell_type": "markdown",
   "metadata": {},
   "source": [
    "Checking if there is an anamoly between clear_date and posting_date"
   ]
  },
  {
   "cell_type": "code",
   "execution_count": 806,
   "metadata": {},
   "outputs": [
    {
     "data": {
      "text/plain": [
       "Int64Index([], dtype='int64')"
      ]
     },
     "execution_count": 806,
     "metadata": {},
     "output_type": "execute_result"
    }
   ],
   "source": [
    "df.index[df.clear_date < df.posting_date]"
   ]
  },
  {
   "cell_type": "markdown",
   "metadata": {},
   "source": [
    "No anomaly found between clear_date and posting_date"
   ]
  },
  {
   "cell_type": "markdown",
   "metadata": {},
   "source": [
    "Checking if there is an anamoly between clear_date and baseline_create_date"
   ]
  },
  {
   "cell_type": "code",
   "execution_count": 807,
   "metadata": {},
   "outputs": [
    {
     "data": {
      "text/plain": [
       "Int64Index([17159, 42656], dtype='int64')"
      ]
     },
     "execution_count": 807,
     "metadata": {},
     "output_type": "execute_result"
    }
   ],
   "source": [
    "df.index[df.clear_date < df.baseline_create_date]"
   ]
  },
  {
   "cell_type": "markdown",
   "metadata": {},
   "source": [
    "In this case there are 2 anamolies found"
   ]
  },
  {
   "cell_type": "code",
   "execution_count": 808,
   "metadata": {},
   "outputs": [],
   "source": [
    "df.drop(df.index[df.clear_date < df.baseline_create_date], inplace=True)"
   ]
  },
  {
   "cell_type": "code",
   "execution_count": 809,
   "metadata": {},
   "outputs": [
    {
     "data": {
      "text/plain": [
       "Int64Index([], dtype='int64')"
      ]
     },
     "execution_count": 809,
     "metadata": {},
     "output_type": "execute_result"
    }
   ],
   "source": [
    "df.index[df.clear_date < df.baseline_create_date]"
   ]
  },
  {
   "cell_type": "markdown",
   "metadata": {},
   "source": [
    "Now it is anamoly free as I have dropped these two rows"
   ]
  },
  {
   "cell_type": "markdown",
   "metadata": {},
   "source": [
    "Checking if there is an anamoly between due_in_date and posting_date"
   ]
  },
  {
   "cell_type": "code",
   "execution_count": 810,
   "metadata": {},
   "outputs": [
    {
     "data": {
      "text/plain": [
       "Int64Index([   25,   490,   655,   685,  1076,  1424,  1672,  2179,  2267,\n",
       "             2520,\n",
       "            ...\n",
       "            47687, 48429, 48765, 48824, 48957, 49009, 49125, 49558, 49722,\n",
       "            49868],\n",
       "           dtype='int64', length=144)"
      ]
     },
     "execution_count": 810,
     "metadata": {},
     "output_type": "execute_result"
    }
   ],
   "source": [
    "df.index[df.due_in_date < df.posting_date]"
   ]
  },
  {
   "cell_type": "code",
   "execution_count": 811,
   "metadata": {},
   "outputs": [],
   "source": [
    "df.drop(df.index[df.due_in_date < df.posting_date], inplace=True)"
   ]
  },
  {
   "cell_type": "code",
   "execution_count": 812,
   "metadata": {},
   "outputs": [
    {
     "data": {
      "text/plain": [
       "Int64Index([], dtype='int64')"
      ]
     },
     "execution_count": 812,
     "metadata": {},
     "output_type": "execute_result"
    }
   ],
   "source": [
    "df.index[df.due_in_date < df.posting_date]"
   ]
  },
  {
   "cell_type": "markdown",
   "metadata": {},
   "source": [
    "Anamoly removed"
   ]
  },
  {
   "cell_type": "markdown",
   "metadata": {},
   "source": [
    "Making a Delay Column and Calculating Delay|delay=clear_date-due_in_date"
   ]
  },
  {
   "cell_type": "code",
   "execution_count": 813,
   "metadata": {},
   "outputs": [],
   "source": [
    "df['delay']=df['clear_date']-df['due_in_date']"
   ]
  },
  {
   "cell_type": "code",
   "execution_count": 814,
   "metadata": {},
   "outputs": [
    {
     "data": {
      "text/plain": [
       "dtype('<m8[ns]')"
      ]
     },
     "execution_count": 814,
     "metadata": {},
     "output_type": "execute_result"
    }
   ],
   "source": [
    "df.delay.dtype"
   ]
  },
  {
   "cell_type": "code",
   "execution_count": 815,
   "metadata": {},
   "outputs": [],
   "source": [
    "df['delay']=df['delay'].dt.days"
   ]
  },
  {
   "cell_type": "code",
   "execution_count": 816,
   "metadata": {},
   "outputs": [
    {
     "data": {
      "text/plain": [
       "True"
      ]
     },
     "execution_count": 816,
     "metadata": {},
     "output_type": "execute_result"
    }
   ],
   "source": [
    "df['delay'].isnull().values.any()"
   ]
  },
  {
   "cell_type": "markdown",
   "metadata": {},
   "source": [
    "Converting Negative Delays to 0"
   ]
  },
  {
   "cell_type": "code",
   "execution_count": 817,
   "metadata": {},
   "outputs": [
    {
     "name": "stderr",
     "output_type": "stream",
     "text": [
      "c:\\users\\kiit\\appdata\\local\\programs\\python\\python37\\lib\\site-packages\\pandas\\core\\indexing.py:1636: SettingWithCopyWarning: \n",
      "A value is trying to be set on a copy of a slice from a DataFrame\n",
      "\n",
      "See the caveats in the documentation: https://pandas.pydata.org/pandas-docs/stable/user_guide/indexing.html#returning-a-view-versus-a-copy\n",
      "  self._setitem_single_block(indexer, value, name)\n"
     ]
    }
   ],
   "source": [
    "df['delay'].loc[(df['delay'] < 0)] = 0"
   ]
  },
  {
   "cell_type": "code",
   "execution_count": 818,
   "metadata": {},
   "outputs": [
    {
     "data": {
      "text/plain": [
       "0.0      27050\n",
       "1.0       5533\n",
       "2.0       4489\n",
       "3.0       2569\n",
       "4.0       1535\n",
       "         ...  \n",
       "205.0        1\n",
       "117.0        1\n",
       "98.0         1\n",
       "264.0        1\n",
       "112.0        1\n",
       "Name: delay, Length: 114, dtype: int64"
      ]
     },
     "execution_count": 818,
     "metadata": {},
     "output_type": "execute_result"
    }
   ],
   "source": [
    "df.delay.value_counts()"
   ]
  },
  {
   "cell_type": "markdown",
   "metadata": {},
   "source": [
    "Train-Test Split"
   ]
  },
  {
   "cell_type": "code",
   "execution_count": 819,
   "metadata": {},
   "outputs": [
    {
     "data": {
      "text/plain": [
       "0    46621\n",
       "1     3233\n",
       "Name: isOpen, dtype: int64"
      ]
     },
     "execution_count": 819,
     "metadata": {},
     "output_type": "execute_result"
    }
   ],
   "source": [
    "df.isOpen.value_counts()"
   ]
  },
  {
   "cell_type": "markdown",
   "metadata": {},
   "source": [
    "X_train=Training dataset containing al column except delay"
   ]
  },
  {
   "cell_type": "markdown",
   "metadata": {},
   "source": [
    "X_validation=Validation Set dataset containing al column except delay"
   ]
  },
  {
   "cell_type": "markdown",
   "metadata": {},
   "source": [
    "X_test=Testing dataset containing only delay"
   ]
  },
  {
   "cell_type": "code",
   "execution_count": 820,
   "metadata": {
    "scrolled": true
   },
   "outputs": [],
   "source": [
    "from sklearn.model_selection import train_test_split"
   ]
  },
  {
   "cell_type": "code",
   "execution_count": 821,
   "metadata": {},
   "outputs": [],
   "source": [
    "X_train_and_validation=df[df['isOpen'] == 0 ]\n",
    "X_test=df[df['isOpen'] == 1 ]"
   ]
  },
  {
   "cell_type": "code",
   "execution_count": 822,
   "metadata": {},
   "outputs": [
    {
     "data": {
      "text/plain": [
       "<AxesSubplot:ylabel='delay'>"
      ]
     },
     "execution_count": 822,
     "metadata": {},
     "output_type": "execute_result"
    },
    {
     "data": {
      "image/png": "[encoded data removed]",
      "text/plain": [
       "<Figure size 720x432 with 1 Axes>"
      ]
     },
     "metadata": {
      "needs_background": "light"
     },
     "output_type": "display_data"
    }
   ],
   "source": [
    "plt.figure(figsize=(10,6))\n",
    "sns.boxplot(y='delay', data=X_train_and_validation)"
   ]
  },
  {
   "cell_type": "code",
   "execution_count": 823,
   "metadata": {},
   "outputs": [
    {
     "name": "stderr",
     "output_type": "stream",
     "text": [
      "c:\\users\\kiit\\appdata\\local\\programs\\python\\python37\\lib\\site-packages\\pandas\\core\\frame.py:4312: SettingWithCopyWarning: \n",
      "A value is trying to be set on a copy of a slice from a DataFrame\n",
      "\n",
      "See the caveats in the documentation: https://pandas.pydata.org/pandas-docs/stable/user_guide/indexing.html#returning-a-view-versus-a-copy\n",
      "  errors=errors,\n"
     ]
    }
   ],
   "source": [
    "X_train_and_validation.drop(X_train_and_validation.index[X_train_and_validation.delay > 200 ], inplace=True)"
   ]
  },
  {
   "cell_type": "code",
   "execution_count": 824,
   "metadata": {},
   "outputs": [
    {
     "data": {
      "text/plain": [
       "(46618, 17)"
      ]
     },
     "execution_count": 824,
     "metadata": {},
     "output_type": "execute_result"
    }
   ],
   "source": [
    "X_train_and_validation.shape"
   ]
  },
  {
   "cell_type": "code",
   "execution_count": 825,
   "metadata": {},
   "outputs": [
    {
     "data": {
      "text/plain": [
       "(3233, 17)"
      ]
     },
     "execution_count": 825,
     "metadata": {},
     "output_type": "execute_result"
    }
   ],
   "source": [
    "X_test.shape"
   ]
  },
  {
   "cell_type": "code",
   "execution_count": 826,
   "metadata": {},
   "outputs": [],
   "source": [
    "y_test=X_test.delay"
   ]
  },
  {
   "cell_type": "code",
   "execution_count": 827,
   "metadata": {},
   "outputs": [],
   "source": [
    "X_test.drop(columns=['delay'],inplace=True)"
   ]
  },
  {
   "cell_type": "code",
   "execution_count": 828,
   "metadata": {},
   "outputs": [
    {
     "data": {
      "text/plain": [
       "(3233, 16)"
      ]
     },
     "execution_count": 828,
     "metadata": {},
     "output_type": "execute_result"
    }
   ],
   "source": [
    "X_test.shape"
   ]
  },
  {
   "cell_type": "code",
   "execution_count": 829,
   "metadata": {},
   "outputs": [
    {
     "data": {
      "text/plain": [
       "(3233,)"
      ]
     },
     "execution_count": 829,
     "metadata": {},
     "output_type": "execute_result"
    }
   ],
   "source": [
    "y_test.shape"
   ]
  },
  {
   "cell_type": "code",
   "execution_count": 830,
   "metadata": {},
   "outputs": [
    {
     "data": {
      "text/html": [
       "<div>\n",
       "<style scoped>\n",
       "    .dataframe tbody tr th:only-of-type {\n",
       "        vertical-align: middle;\n",
       "    }\n",
       "\n",
       "    .dataframe tbody tr th {\n",
       "        vertical-align: top;\n",
       "    }\n",
       "\n",
       "    .dataframe thead th {\n",
       "        text-align: right;\n",
       "    }\n",
       "</style>\n",
       "<table border=\"1\" class=\"dataframe\">\n",
       "  <thead>\n",
       "    <tr style=\"text-align: right;\">\n",
       "      <th></th>\n",
       "      <th>business_code</th>\n",
       "      <th>cust_number</th>\n",
       "      <th>name_customer</th>\n",
       "      <th>clear_date</th>\n",
       "      <th>buisness_year</th>\n",
       "      <th>doc_id</th>\n",
       "      <th>posting_date</th>\n",
       "      <th>document_create_date</th>\n",
       "      <th>document_create_date.1</th>\n",
       "      <th>due_in_date</th>\n",
       "      <th>Region</th>\n",
       "      <th>document type</th>\n",
       "      <th>total_open_amount</th>\n",
       "      <th>baseline_create_date</th>\n",
       "      <th>cust_payment_terms</th>\n",
       "      <th>isOpen</th>\n",
       "      <th>delay</th>\n",
       "    </tr>\n",
       "  </thead>\n",
       "  <tbody>\n",
       "    <tr>\n",
       "      <th>0</th>\n",
       "      <td>U001</td>\n",
       "      <td>0200769623</td>\n",
       "      <td>WAL-MAR us</td>\n",
       "      <td>2019-05-15</td>\n",
       "      <td>2019.0</td>\n",
       "      <td>1.929261e+09</td>\n",
       "      <td>2019-05-05</td>\n",
       "      <td>2019-05-05</td>\n",
       "      <td>2019-05-05</td>\n",
       "      <td>2019-05-20</td>\n",
       "      <td>1</td>\n",
       "      <td>1</td>\n",
       "      <td>6532.60000</td>\n",
       "      <td>2019-05-05</td>\n",
       "      <td>NAH4</td>\n",
       "      <td>0</td>\n",
       "      <td>0.0</td>\n",
       "    </tr>\n",
       "    <tr>\n",
       "      <th>1</th>\n",
       "      <td>U001</td>\n",
       "      <td>0200769623</td>\n",
       "      <td>WAL-MAR</td>\n",
       "      <td>2019-10-22</td>\n",
       "      <td>2019.0</td>\n",
       "      <td>1.929996e+09</td>\n",
       "      <td>2019-10-12</td>\n",
       "      <td>2019-10-10</td>\n",
       "      <td>2019-10-12</td>\n",
       "      <td>2019-10-27</td>\n",
       "      <td>1</td>\n",
       "      <td>1</td>\n",
       "      <td>9890.75000</td>\n",
       "      <td>2019-10-12</td>\n",
       "      <td>NAH4</td>\n",
       "      <td>0</td>\n",
       "      <td>0.0</td>\n",
       "    </tr>\n",
       "    <tr>\n",
       "      <th>2</th>\n",
       "      <td>CA02</td>\n",
       "      <td>0140104429</td>\n",
       "      <td>COSTCO foundation</td>\n",
       "      <td>2019-04-04</td>\n",
       "      <td>2019.0</td>\n",
       "      <td>2.960536e+09</td>\n",
       "      <td>2019-03-23</td>\n",
       "      <td>2019-03-23</td>\n",
       "      <td>2019-03-23</td>\n",
       "      <td>2019-04-03</td>\n",
       "      <td>0</td>\n",
       "      <td>1</td>\n",
       "      <td>57129.29729</td>\n",
       "      <td>2019-03-24</td>\n",
       "      <td>CA10</td>\n",
       "      <td>0</td>\n",
       "      <td>1.0</td>\n",
       "    </tr>\n",
       "    <tr>\n",
       "      <th>3</th>\n",
       "      <td>U001</td>\n",
       "      <td>0200769623</td>\n",
       "      <td>WAL-MAR corp</td>\n",
       "      <td>2019-12-10</td>\n",
       "      <td>2019.0</td>\n",
       "      <td>1.930203e+09</td>\n",
       "      <td>2019-11-27</td>\n",
       "      <td>2019-11-27</td>\n",
       "      <td>2019-11-27</td>\n",
       "      <td>2019-12-12</td>\n",
       "      <td>1</td>\n",
       "      <td>1</td>\n",
       "      <td>12219.74000</td>\n",
       "      <td>2019-11-27</td>\n",
       "      <td>NAH4</td>\n",
       "      <td>0</td>\n",
       "      <td>0.0</td>\n",
       "    </tr>\n",
       "    <tr>\n",
       "      <th>4</th>\n",
       "      <td>U001</td>\n",
       "      <td>0200769623</td>\n",
       "      <td>WAL-MAR corp</td>\n",
       "      <td>2019-07-08</td>\n",
       "      <td>2019.0</td>\n",
       "      <td>1.929540e+09</td>\n",
       "      <td>2019-06-27</td>\n",
       "      <td>2019-06-25</td>\n",
       "      <td>2019-06-27</td>\n",
       "      <td>2019-07-12</td>\n",
       "      <td>1</td>\n",
       "      <td>1</td>\n",
       "      <td>1897.50000</td>\n",
       "      <td>2019-06-27</td>\n",
       "      <td>NAH4</td>\n",
       "      <td>0</td>\n",
       "      <td>0.0</td>\n",
       "    </tr>\n",
       "  </tbody>\n",
       "</table>\n",
       "</div>"
      ],
      "text/plain": [
       "  business_code cust_number      name_customer clear_date  buisness_year  \\\n",
       "0          U001  0200769623         WAL-MAR us 2019-05-15         2019.0   \n",
       "1          U001  0200769623           WAL-MAR  2019-10-22         2019.0   \n",
       "2          CA02  0140104429  COSTCO foundation 2019-04-04         2019.0   \n",
       "3          U001  0200769623       WAL-MAR corp 2019-12-10         2019.0   \n",
       "4          U001  0200769623       WAL-MAR corp 2019-07-08         2019.0   \n",
       "\n",
       "         doc_id posting_date document_create_date document_create_date.1  \\\n",
       "0  1.929261e+09   2019-05-05           2019-05-05             2019-05-05   \n",
       "1  1.929996e+09   2019-10-12           2019-10-10             2019-10-12   \n",
       "2  2.960536e+09   2019-03-23           2019-03-23             2019-03-23   \n",
       "3  1.930203e+09   2019-11-27           2019-11-27             2019-11-27   \n",
       "4  1.929540e+09   2019-06-27           2019-06-25             2019-06-27   \n",
       "\n",
       "  due_in_date  Region  document type  total_open_amount baseline_create_date  \\\n",
       "0  2019-05-20       1              1         6532.60000           2019-05-05   \n",
       "1  2019-10-27       1              1         9890.75000           2019-10-12   \n",
       "2  2019-04-03       0              1        57129.29729           2019-03-24   \n",
       "3  2019-12-12       1              1        12219.74000           2019-11-27   \n",
       "4  2019-07-12       1              1         1897.50000           2019-06-27   \n",
       "\n",
       "  cust_payment_terms  isOpen  delay  \n",
       "0               NAH4       0    0.0  \n",
       "1               NAH4       0    0.0  \n",
       "2               CA10       0    1.0  \n",
       "3               NAH4       0    0.0  \n",
       "4               NAH4       0    0.0  "
      ]
     },
     "execution_count": 830,
     "metadata": {},
     "output_type": "execute_result"
    }
   ],
   "source": [
    "X_train_and_validation.head()"
   ]
  },
  {
   "cell_type": "code",
   "execution_count": 831,
   "metadata": {},
   "outputs": [],
   "source": [
    "X=X_train_and_validation.copy()"
   ]
  },
  {
   "cell_type": "code",
   "execution_count": 832,
   "metadata": {},
   "outputs": [],
   "source": [
    "X.drop(columns=['delay'],inplace=True)"
   ]
  },
  {
   "cell_type": "code",
   "execution_count": 833,
   "metadata": {},
   "outputs": [],
   "source": [
    "y=X_train_and_validation['delay']"
   ]
  },
  {
   "cell_type": "code",
   "execution_count": 834,
   "metadata": {},
   "outputs": [],
   "source": [
    "X_train ,X_validation , y_train , y_validation = train_test_split(X , y ,test_size=.3,shuffle=False,random_state=42)"
   ]
  },
  {
   "cell_type": "code",
   "execution_count": 835,
   "metadata": {},
   "outputs": [
    {
     "data": {
      "text/plain": [
       "(32632, 16)"
      ]
     },
     "execution_count": 835,
     "metadata": {},
     "output_type": "execute_result"
    }
   ],
   "source": [
    "X_train.shape"
   ]
  },
  {
   "cell_type": "code",
   "execution_count": 836,
   "metadata": {},
   "outputs": [
    {
     "data": {
      "text/plain": [
       "(13986, 16)"
      ]
     },
     "execution_count": 836,
     "metadata": {},
     "output_type": "execute_result"
    }
   ],
   "source": [
    "X_validation.shape"
   ]
  },
  {
   "cell_type": "code",
   "execution_count": 837,
   "metadata": {},
   "outputs": [
    {
     "data": {
      "text/plain": [
       "(3233, 16)"
      ]
     },
     "execution_count": 837,
     "metadata": {},
     "output_type": "execute_result"
    }
   ],
   "source": [
    "X_test.shape"
   ]
  },
  {
   "cell_type": "markdown",
   "metadata": {},
   "source": [
    "Train Test Split Completed"
   ]
  },
  {
   "cell_type": "markdown",
   "metadata": {},
   "source": [
    "Dropping isOpen Column as split is already done and now it is of no use"
   ]
  },
  {
   "cell_type": "code",
   "execution_count": 838,
   "metadata": {},
   "outputs": [
    {
     "name": "stderr",
     "output_type": "stream",
     "text": [
      "c:\\users\\kiit\\appdata\\local\\programs\\python\\python37\\lib\\site-packages\\pandas\\core\\frame.py:4312: SettingWithCopyWarning: \n",
      "A value is trying to be set on a copy of a slice from a DataFrame\n",
      "\n",
      "See the caveats in the documentation: https://pandas.pydata.org/pandas-docs/stable/user_guide/indexing.html#returning-a-view-versus-a-copy\n",
      "  errors=errors,\n"
     ]
    }
   ],
   "source": [
    "X_train.drop(columns=['isOpen'],inplace=True)"
   ]
  },
  {
   "cell_type": "code",
   "execution_count": 839,
   "metadata": {},
   "outputs": [],
   "source": [
    "X_validation.drop(columns=['isOpen'],inplace=True)"
   ]
  },
  {
   "cell_type": "code",
   "execution_count": 840,
   "metadata": {},
   "outputs": [],
   "source": [
    "X_test.drop(columns=['isOpen'],inplace=True)"
   ]
  },
  {
   "cell_type": "markdown",
   "metadata": {},
   "source": [
    "Checking whether posting date and document_create_date.1 are same or not"
   ]
  },
  {
   "cell_type": "code",
   "execution_count": 841,
   "metadata": {},
   "outputs": [
    {
     "data": {
      "text/plain": [
       "Int64Index([], dtype='int64')"
      ]
     },
     "execution_count": 841,
     "metadata": {},
     "output_type": "execute_result"
    }
   ],
   "source": [
    "X_train.index[X_train['posting_date']!=X_train['document_create_date.1']]"
   ]
  },
  {
   "cell_type": "code",
   "execution_count": 842,
   "metadata": {},
   "outputs": [
    {
     "data": {
      "text/plain": [
       "Int64Index([], dtype='int64')"
      ]
     },
     "execution_count": 842,
     "metadata": {},
     "output_type": "execute_result"
    }
   ],
   "source": [
    "X_validation.index[X_validation['posting_date']!=X_validation['document_create_date.1']]"
   ]
  },
  {
   "cell_type": "code",
   "execution_count": 843,
   "metadata": {},
   "outputs": [
    {
     "data": {
      "text/plain": [
       "Int64Index([], dtype='int64')"
      ]
     },
     "execution_count": 843,
     "metadata": {},
     "output_type": "execute_result"
    }
   ],
   "source": [
    "X_test.index[X_test['posting_date']!=X_test['document_create_date.1']]"
   ]
  },
  {
   "cell_type": "markdown",
   "metadata": {},
   "source": [
    "Dropping posting date and document_create_date and baseline_create_date"
   ]
  },
  {
   "cell_type": "code",
   "execution_count": 844,
   "metadata": {},
   "outputs": [],
   "source": [
    "X_train.drop(columns=['posting_date'],inplace=True)"
   ]
  },
  {
   "cell_type": "code",
   "execution_count": 845,
   "metadata": {},
   "outputs": [],
   "source": [
    "X_train.drop(columns=['document_create_date','baseline_create_date'],inplace=True)"
   ]
  },
  {
   "cell_type": "code",
   "execution_count": 846,
   "metadata": {},
   "outputs": [],
   "source": [
    "X_validation.drop(columns=['posting_date'],inplace=True)"
   ]
  },
  {
   "cell_type": "code",
   "execution_count": 847,
   "metadata": {},
   "outputs": [],
   "source": [
    "X_validation.drop(columns=['document_create_date','baseline_create_date'],inplace=True)"
   ]
  },
  {
   "cell_type": "code",
   "execution_count": 848,
   "metadata": {},
   "outputs": [],
   "source": [
    "X_test.drop(columns=['posting_date'],inplace=True)"
   ]
  },
  {
   "cell_type": "code",
   "execution_count": 849,
   "metadata": {},
   "outputs": [],
   "source": [
    "X_test.drop(columns=['document_create_date','baseline_create_date'],inplace=True)"
   ]
  },
  {
   "cell_type": "markdown",
   "metadata": {},
   "source": [
    "Splitting document_create_date.1 and due_in_date into days month and year"
   ]
  },
  {
   "cell_type": "code",
   "execution_count": 850,
   "metadata": {},
   "outputs": [
    {
     "name": "stderr",
     "output_type": "stream",
     "text": [
      "c:\\users\\kiit\\appdata\\local\\programs\\python\\python37\\lib\\site-packages\\ipykernel_launcher.py:1: SettingWithCopyWarning: \n",
      "A value is trying to be set on a copy of a slice from a DataFrame.\n",
      "Try using .loc[row_indexer,col_indexer] = value instead\n",
      "\n",
      "See the caveats in the documentation: https://pandas.pydata.org/pandas-docs/stable/user_guide/indexing.html#returning-a-view-versus-a-copy\n",
      "  \"\"\"Entry point for launching an IPython kernel.\n",
      "c:\\users\\kiit\\appdata\\local\\programs\\python\\python37\\lib\\site-packages\\ipykernel_launcher.py:2: SettingWithCopyWarning: \n",
      "A value is trying to be set on a copy of a slice from a DataFrame.\n",
      "Try using .loc[row_indexer,col_indexer] = value instead\n",
      "\n",
      "See the caveats in the documentation: https://pandas.pydata.org/pandas-docs/stable/user_guide/indexing.html#returning-a-view-versus-a-copy\n",
      "  \n",
      "c:\\users\\kiit\\appdata\\local\\programs\\python\\python37\\lib\\site-packages\\ipykernel_launcher.py:3: SettingWithCopyWarning: \n",
      "A value is trying to be set on a copy of a slice from a DataFrame.\n",
      "Try using .loc[row_indexer,col_indexer] = value instead\n",
      "\n",
      "See the caveats in the documentation: https://pandas.pydata.org/pandas-docs/stable/user_guide/indexing.html#returning-a-view-versus-a-copy\n",
      "  This is separate from the ipykernel package so we can avoid doing imports until\n"
     ]
    }
   ],
   "source": [
    "X_train['doc_create_day']=X_train['document_create_date.1'].dt.day\n",
    "X_train['doc_create_months']=X_train['document_create_date.1'].dt.month\n",
    "X_train['doc_create_year']=X_train['document_create_date.1'].dt.year"
   ]
  },
  {
   "cell_type": "code",
   "execution_count": 851,
   "metadata": {},
   "outputs": [
    {
     "name": "stderr",
     "output_type": "stream",
     "text": [
      "c:\\users\\kiit\\appdata\\local\\programs\\python\\python37\\lib\\site-packages\\ipykernel_launcher.py:1: SettingWithCopyWarning: \n",
      "A value is trying to be set on a copy of a slice from a DataFrame.\n",
      "Try using .loc[row_indexer,col_indexer] = value instead\n",
      "\n",
      "See the caveats in the documentation: https://pandas.pydata.org/pandas-docs/stable/user_guide/indexing.html#returning-a-view-versus-a-copy\n",
      "  \"\"\"Entry point for launching an IPython kernel.\n",
      "c:\\users\\kiit\\appdata\\local\\programs\\python\\python37\\lib\\site-packages\\ipykernel_launcher.py:2: SettingWithCopyWarning: \n",
      "A value is trying to be set on a copy of a slice from a DataFrame.\n",
      "Try using .loc[row_indexer,col_indexer] = value instead\n",
      "\n",
      "See the caveats in the documentation: https://pandas.pydata.org/pandas-docs/stable/user_guide/indexing.html#returning-a-view-versus-a-copy\n",
      "  \n",
      "c:\\users\\kiit\\appdata\\local\\programs\\python\\python37\\lib\\site-packages\\ipykernel_launcher.py:3: SettingWithCopyWarning: \n",
      "A value is trying to be set on a copy of a slice from a DataFrame.\n",
      "Try using .loc[row_indexer,col_indexer] = value instead\n",
      "\n",
      "See the caveats in the documentation: https://pandas.pydata.org/pandas-docs/stable/user_guide/indexing.html#returning-a-view-versus-a-copy\n",
      "  This is separate from the ipykernel package so we can avoid doing imports until\n"
     ]
    }
   ],
   "source": [
    "X_validation['doc_create_day']=X_validation['document_create_date.1'].dt.day\n",
    "X_validation['doc_create_months']=X_validation['document_create_date.1'].dt.month\n",
    "X_validation['doc_create_year']=X_validation['document_create_date.1'].dt.year"
   ]
  },
  {
   "cell_type": "code",
   "execution_count": 852,
   "metadata": {},
   "outputs": [
    {
     "name": "stderr",
     "output_type": "stream",
     "text": [
      "c:\\users\\kiit\\appdata\\local\\programs\\python\\python37\\lib\\site-packages\\ipykernel_launcher.py:1: SettingWithCopyWarning: \n",
      "A value is trying to be set on a copy of a slice from a DataFrame.\n",
      "Try using .loc[row_indexer,col_indexer] = value instead\n",
      "\n",
      "See the caveats in the documentation: https://pandas.pydata.org/pandas-docs/stable/user_guide/indexing.html#returning-a-view-versus-a-copy\n",
      "  \"\"\"Entry point for launching an IPython kernel.\n",
      "c:\\users\\kiit\\appdata\\local\\programs\\python\\python37\\lib\\site-packages\\ipykernel_launcher.py:2: SettingWithCopyWarning: \n",
      "A value is trying to be set on a copy of a slice from a DataFrame.\n",
      "Try using .loc[row_indexer,col_indexer] = value instead\n",
      "\n",
      "See the caveats in the documentation: https://pandas.pydata.org/pandas-docs/stable/user_guide/indexing.html#returning-a-view-versus-a-copy\n",
      "  \n",
      "c:\\users\\kiit\\appdata\\local\\programs\\python\\python37\\lib\\site-packages\\ipykernel_launcher.py:3: SettingWithCopyWarning: \n",
      "A value is trying to be set on a copy of a slice from a DataFrame.\n",
      "Try using .loc[row_indexer,col_indexer] = value instead\n",
      "\n",
      "See the caveats in the documentation: https://pandas.pydata.org/pandas-docs/stable/user_guide/indexing.html#returning-a-view-versus-a-copy\n",
      "  This is separate from the ipykernel package so we can avoid doing imports until\n"
     ]
    }
   ],
   "source": [
    "X_test['doc_create_day']=X_test['document_create_date.1'].dt.day\n",
    "X_test['doc_create_months']=X_test['document_create_date.1'].dt.month\n",
    "X_test['doc_create_year']=X_test['document_create_date.1'].dt.year"
   ]
  },
  {
   "cell_type": "code",
   "execution_count": 853,
   "metadata": {},
   "outputs": [
    {
     "name": "stderr",
     "output_type": "stream",
     "text": [
      "c:\\users\\kiit\\appdata\\local\\programs\\python\\python37\\lib\\site-packages\\ipykernel_launcher.py:1: SettingWithCopyWarning: \n",
      "A value is trying to be set on a copy of a slice from a DataFrame.\n",
      "Try using .loc[row_indexer,col_indexer] = value instead\n",
      "\n",
      "See the caveats in the documentation: https://pandas.pydata.org/pandas-docs/stable/user_guide/indexing.html#returning-a-view-versus-a-copy\n",
      "  \"\"\"Entry point for launching an IPython kernel.\n",
      "c:\\users\\kiit\\appdata\\local\\programs\\python\\python37\\lib\\site-packages\\ipykernel_launcher.py:2: SettingWithCopyWarning: \n",
      "A value is trying to be set on a copy of a slice from a DataFrame.\n",
      "Try using .loc[row_indexer,col_indexer] = value instead\n",
      "\n",
      "See the caveats in the documentation: https://pandas.pydata.org/pandas-docs/stable/user_guide/indexing.html#returning-a-view-versus-a-copy\n",
      "  \n",
      "c:\\users\\kiit\\appdata\\local\\programs\\python\\python37\\lib\\site-packages\\ipykernel_launcher.py:3: SettingWithCopyWarning: \n",
      "A value is trying to be set on a copy of a slice from a DataFrame.\n",
      "Try using .loc[row_indexer,col_indexer] = value instead\n",
      "\n",
      "See the caveats in the documentation: https://pandas.pydata.org/pandas-docs/stable/user_guide/indexing.html#returning-a-view-versus-a-copy\n",
      "  This is separate from the ipykernel package so we can avoid doing imports until\n"
     ]
    }
   ],
   "source": [
    "X_train['due_in_date_day']=X_train['due_in_date'].dt.day\n",
    "X_train['due_in_date_month']=X_train['due_in_date'].dt.month\n",
    "X_train['due_in_date_year']=X_train['due_in_date'].dt.year"
   ]
  },
  {
   "cell_type": "code",
   "execution_count": 854,
   "metadata": {},
   "outputs": [
    {
     "name": "stderr",
     "output_type": "stream",
     "text": [
      "c:\\users\\kiit\\appdata\\local\\programs\\python\\python37\\lib\\site-packages\\ipykernel_launcher.py:1: SettingWithCopyWarning: \n",
      "A value is trying to be set on a copy of a slice from a DataFrame.\n",
      "Try using .loc[row_indexer,col_indexer] = value instead\n",
      "\n",
      "See the caveats in the documentation: https://pandas.pydata.org/pandas-docs/stable/user_guide/indexing.html#returning-a-view-versus-a-copy\n",
      "  \"\"\"Entry point for launching an IPython kernel.\n",
      "c:\\users\\kiit\\appdata\\local\\programs\\python\\python37\\lib\\site-packages\\ipykernel_launcher.py:2: SettingWithCopyWarning: \n",
      "A value is trying to be set on a copy of a slice from a DataFrame.\n",
      "Try using .loc[row_indexer,col_indexer] = value instead\n",
      "\n",
      "See the caveats in the documentation: https://pandas.pydata.org/pandas-docs/stable/user_guide/indexing.html#returning-a-view-versus-a-copy\n",
      "  \n",
      "c:\\users\\kiit\\appdata\\local\\programs\\python\\python37\\lib\\site-packages\\ipykernel_launcher.py:3: SettingWithCopyWarning: \n",
      "A value is trying to be set on a copy of a slice from a DataFrame.\n",
      "Try using .loc[row_indexer,col_indexer] = value instead\n",
      "\n",
      "See the caveats in the documentation: https://pandas.pydata.org/pandas-docs/stable/user_guide/indexing.html#returning-a-view-versus-a-copy\n",
      "  This is separate from the ipykernel package so we can avoid doing imports until\n"
     ]
    }
   ],
   "source": [
    "X_validation['due_in_date_day']=X_validation['due_in_date'].dt.day\n",
    "X_validation['due_in_date_month']=X_validation['due_in_date'].dt.month\n",
    "X_validation['due_in_date_year']=X_validation['due_in_date'].dt.year"
   ]
  },
  {
   "cell_type": "code",
   "execution_count": 855,
   "metadata": {},
   "outputs": [
    {
     "name": "stderr",
     "output_type": "stream",
     "text": [
      "c:\\users\\kiit\\appdata\\local\\programs\\python\\python37\\lib\\site-packages\\ipykernel_launcher.py:1: SettingWithCopyWarning: \n",
      "A value is trying to be set on a copy of a slice from a DataFrame.\n",
      "Try using .loc[row_indexer,col_indexer] = value instead\n",
      "\n",
      "See the caveats in the documentation: https://pandas.pydata.org/pandas-docs/stable/user_guide/indexing.html#returning-a-view-versus-a-copy\n",
      "  \"\"\"Entry point for launching an IPython kernel.\n",
      "c:\\users\\kiit\\appdata\\local\\programs\\python\\python37\\lib\\site-packages\\ipykernel_launcher.py:2: SettingWithCopyWarning: \n",
      "A value is trying to be set on a copy of a slice from a DataFrame.\n",
      "Try using .loc[row_indexer,col_indexer] = value instead\n",
      "\n",
      "See the caveats in the documentation: https://pandas.pydata.org/pandas-docs/stable/user_guide/indexing.html#returning-a-view-versus-a-copy\n",
      "  \n",
      "c:\\users\\kiit\\appdata\\local\\programs\\python\\python37\\lib\\site-packages\\ipykernel_launcher.py:3: SettingWithCopyWarning: \n",
      "A value is trying to be set on a copy of a slice from a DataFrame.\n",
      "Try using .loc[row_indexer,col_indexer] = value instead\n",
      "\n",
      "See the caveats in the documentation: https://pandas.pydata.org/pandas-docs/stable/user_guide/indexing.html#returning-a-view-versus-a-copy\n",
      "  This is separate from the ipykernel package so we can avoid doing imports until\n"
     ]
    }
   ],
   "source": [
    "X_test['due_in_date_day']=X_test['due_in_date'].dt.day\n",
    "X_test['due_in_date_month']=X_test['due_in_date'].dt.month\n",
    "X_test['due_in_date_year']=X_test['due_in_date'].dt.year"
   ]
  },
  {
   "cell_type": "code",
   "execution_count": 856,
   "metadata": {},
   "outputs": [
    {
     "data": {
      "text/html": [
       "<div>\n",
       "<style scoped>\n",
       "    .dataframe tbody tr th:only-of-type {\n",
       "        vertical-align: middle;\n",
       "    }\n",
       "\n",
       "    .dataframe tbody tr th {\n",
       "        vertical-align: top;\n",
       "    }\n",
       "\n",
       "    .dataframe thead th {\n",
       "        text-align: right;\n",
       "    }\n",
       "</style>\n",
       "<table border=\"1\" class=\"dataframe\">\n",
       "  <thead>\n",
       "    <tr style=\"text-align: right;\">\n",
       "      <th></th>\n",
       "      <th>business_code</th>\n",
       "      <th>cust_number</th>\n",
       "      <th>name_customer</th>\n",
       "      <th>clear_date</th>\n",
       "      <th>buisness_year</th>\n",
       "      <th>doc_id</th>\n",
       "      <th>document_create_date.1</th>\n",
       "      <th>due_in_date</th>\n",
       "      <th>Region</th>\n",
       "      <th>document type</th>\n",
       "      <th>total_open_amount</th>\n",
       "      <th>cust_payment_terms</th>\n",
       "      <th>doc_create_day</th>\n",
       "      <th>doc_create_months</th>\n",
       "      <th>doc_create_year</th>\n",
       "      <th>due_in_date_day</th>\n",
       "      <th>due_in_date_month</th>\n",
       "      <th>due_in_date_year</th>\n",
       "    </tr>\n",
       "  </thead>\n",
       "  <tbody>\n",
       "    <tr>\n",
       "      <th>0</th>\n",
       "      <td>U001</td>\n",
       "      <td>0200769623</td>\n",
       "      <td>WAL-MAR us</td>\n",
       "      <td>2019-05-15</td>\n",
       "      <td>2019.0</td>\n",
       "      <td>1.929261e+09</td>\n",
       "      <td>2019-05-05</td>\n",
       "      <td>2019-05-20</td>\n",
       "      <td>1</td>\n",
       "      <td>1</td>\n",
       "      <td>6532.60000</td>\n",
       "      <td>NAH4</td>\n",
       "      <td>5</td>\n",
       "      <td>5</td>\n",
       "      <td>2019</td>\n",
       "      <td>20</td>\n",
       "      <td>5</td>\n",
       "      <td>2019</td>\n",
       "    </tr>\n",
       "    <tr>\n",
       "      <th>1</th>\n",
       "      <td>U001</td>\n",
       "      <td>0200769623</td>\n",
       "      <td>WAL-MAR</td>\n",
       "      <td>2019-10-22</td>\n",
       "      <td>2019.0</td>\n",
       "      <td>1.929996e+09</td>\n",
       "      <td>2019-10-12</td>\n",
       "      <td>2019-10-27</td>\n",
       "      <td>1</td>\n",
       "      <td>1</td>\n",
       "      <td>9890.75000</td>\n",
       "      <td>NAH4</td>\n",
       "      <td>12</td>\n",
       "      <td>10</td>\n",
       "      <td>2019</td>\n",
       "      <td>27</td>\n",
       "      <td>10</td>\n",
       "      <td>2019</td>\n",
       "    </tr>\n",
       "    <tr>\n",
       "      <th>2</th>\n",
       "      <td>CA02</td>\n",
       "      <td>0140104429</td>\n",
       "      <td>COSTCO foundation</td>\n",
       "      <td>2019-04-04</td>\n",
       "      <td>2019.0</td>\n",
       "      <td>2.960536e+09</td>\n",
       "      <td>2019-03-23</td>\n",
       "      <td>2019-04-03</td>\n",
       "      <td>0</td>\n",
       "      <td>1</td>\n",
       "      <td>57129.29729</td>\n",
       "      <td>CA10</td>\n",
       "      <td>23</td>\n",
       "      <td>3</td>\n",
       "      <td>2019</td>\n",
       "      <td>3</td>\n",
       "      <td>4</td>\n",
       "      <td>2019</td>\n",
       "    </tr>\n",
       "    <tr>\n",
       "      <th>3</th>\n",
       "      <td>U001</td>\n",
       "      <td>0200769623</td>\n",
       "      <td>WAL-MAR corp</td>\n",
       "      <td>2019-12-10</td>\n",
       "      <td>2019.0</td>\n",
       "      <td>1.930203e+09</td>\n",
       "      <td>2019-11-27</td>\n",
       "      <td>2019-12-12</td>\n",
       "      <td>1</td>\n",
       "      <td>1</td>\n",
       "      <td>12219.74000</td>\n",
       "      <td>NAH4</td>\n",
       "      <td>27</td>\n",
       "      <td>11</td>\n",
       "      <td>2019</td>\n",
       "      <td>12</td>\n",
       "      <td>12</td>\n",
       "      <td>2019</td>\n",
       "    </tr>\n",
       "    <tr>\n",
       "      <th>4</th>\n",
       "      <td>U001</td>\n",
       "      <td>0200769623</td>\n",
       "      <td>WAL-MAR corp</td>\n",
       "      <td>2019-07-08</td>\n",
       "      <td>2019.0</td>\n",
       "      <td>1.929540e+09</td>\n",
       "      <td>2019-06-27</td>\n",
       "      <td>2019-07-12</td>\n",
       "      <td>1</td>\n",
       "      <td>1</td>\n",
       "      <td>1897.50000</td>\n",
       "      <td>NAH4</td>\n",
       "      <td>27</td>\n",
       "      <td>6</td>\n",
       "      <td>2019</td>\n",
       "      <td>12</td>\n",
       "      <td>7</td>\n",
       "      <td>2019</td>\n",
       "    </tr>\n",
       "  </tbody>\n",
       "</table>\n",
       "</div>"
      ],
      "text/plain": [
       "  business_code cust_number      name_customer clear_date  buisness_year  \\\n",
       "0          U001  0200769623         WAL-MAR us 2019-05-15         2019.0   \n",
       "1          U001  0200769623           WAL-MAR  2019-10-22         2019.0   \n",
       "2          CA02  0140104429  COSTCO foundation 2019-04-04         2019.0   \n",
       "3          U001  0200769623       WAL-MAR corp 2019-12-10         2019.0   \n",
       "4          U001  0200769623       WAL-MAR corp 2019-07-08         2019.0   \n",
       "\n",
       "         doc_id document_create_date.1 due_in_date  Region  document type  \\\n",
       "0  1.929261e+09             2019-05-05  2019-05-20       1              1   \n",
       "1  1.929996e+09             2019-10-12  2019-10-27       1              1   \n",
       "2  2.960536e+09             2019-03-23  2019-04-03       0              1   \n",
       "3  1.930203e+09             2019-11-27  2019-12-12       1              1   \n",
       "4  1.929540e+09             2019-06-27  2019-07-12       1              1   \n",
       "\n",
       "   total_open_amount cust_payment_terms  doc_create_day  doc_create_months  \\\n",
       "0         6532.60000               NAH4               5                  5   \n",
       "1         9890.75000               NAH4              12                 10   \n",
       "2        57129.29729               CA10              23                  3   \n",
       "3        12219.74000               NAH4              27                 11   \n",
       "4         1897.50000               NAH4              27                  6   \n",
       "\n",
       "   doc_create_year  due_in_date_day  due_in_date_month  due_in_date_year  \n",
       "0             2019               20                  5              2019  \n",
       "1             2019               27                 10              2019  \n",
       "2             2019                3                  4              2019  \n",
       "3             2019               12                 12              2019  \n",
       "4             2019               12                  7              2019  "
      ]
     },
     "execution_count": 856,
     "metadata": {},
     "output_type": "execute_result"
    }
   ],
   "source": [
    "X_train.head()"
   ]
  },
  {
   "cell_type": "markdown",
   "metadata": {},
   "source": [
    "Dropping doc_id,document_create_date.1,due_in_date,buisness_year,clear_date"
   ]
  },
  {
   "cell_type": "code",
   "execution_count": 857,
   "metadata": {},
   "outputs": [
    {
     "name": "stderr",
     "output_type": "stream",
     "text": [
      "c:\\users\\kiit\\appdata\\local\\programs\\python\\python37\\lib\\site-packages\\pandas\\core\\frame.py:4312: SettingWithCopyWarning: \n",
      "A value is trying to be set on a copy of a slice from a DataFrame\n",
      "\n",
      "See the caveats in the documentation: https://pandas.pydata.org/pandas-docs/stable/user_guide/indexing.html#returning-a-view-versus-a-copy\n",
      "  errors=errors,\n"
     ]
    }
   ],
   "source": [
    "X_train.drop(columns=['doc_id','document_create_date.1','due_in_date','buisness_year','clear_date'],inplace=True)"
   ]
  },
  {
   "cell_type": "code",
   "execution_count": 858,
   "metadata": {},
   "outputs": [],
   "source": [
    "X_validation.drop(columns=['doc_id','document_create_date.1','due_in_date','buisness_year','clear_date'],inplace=True)"
   ]
  },
  {
   "cell_type": "code",
   "execution_count": 859,
   "metadata": {},
   "outputs": [],
   "source": [
    "X_test.drop(columns=['doc_id','document_create_date.1','due_in_date','buisness_year','clear_date'],inplace=True)"
   ]
  },
  {
   "cell_type": "code",
   "execution_count": 860,
   "metadata": {},
   "outputs": [
    {
     "data": {
      "text/html": [
       "<div>\n",
       "<style scoped>\n",
       "    .dataframe tbody tr th:only-of-type {\n",
       "        vertical-align: middle;\n",
       "    }\n",
       "\n",
       "    .dataframe tbody tr th {\n",
       "        vertical-align: top;\n",
       "    }\n",
       "\n",
       "    .dataframe thead th {\n",
       "        text-align: right;\n",
       "    }\n",
       "</style>\n",
       "<table border=\"1\" class=\"dataframe\">\n",
       "  <thead>\n",
       "    <tr style=\"text-align: right;\">\n",
       "      <th></th>\n",
       "      <th>business_code</th>\n",
       "      <th>cust_number</th>\n",
       "      <th>name_customer</th>\n",
       "      <th>Region</th>\n",
       "      <th>document type</th>\n",
       "      <th>total_open_amount</th>\n",
       "      <th>cust_payment_terms</th>\n",
       "      <th>doc_create_day</th>\n",
       "      <th>doc_create_months</th>\n",
       "      <th>doc_create_year</th>\n",
       "      <th>due_in_date_day</th>\n",
       "      <th>due_in_date_month</th>\n",
       "      <th>due_in_date_year</th>\n",
       "    </tr>\n",
       "  </thead>\n",
       "  <tbody>\n",
       "    <tr>\n",
       "      <th>0</th>\n",
       "      <td>U001</td>\n",
       "      <td>0200769623</td>\n",
       "      <td>WAL-MAR us</td>\n",
       "      <td>1</td>\n",
       "      <td>1</td>\n",
       "      <td>6532.60000</td>\n",
       "      <td>NAH4</td>\n",
       "      <td>5</td>\n",
       "      <td>5</td>\n",
       "      <td>2019</td>\n",
       "      <td>20</td>\n",
       "      <td>5</td>\n",
       "      <td>2019</td>\n",
       "    </tr>\n",
       "    <tr>\n",
       "      <th>1</th>\n",
       "      <td>U001</td>\n",
       "      <td>0200769623</td>\n",
       "      <td>WAL-MAR</td>\n",
       "      <td>1</td>\n",
       "      <td>1</td>\n",
       "      <td>9890.75000</td>\n",
       "      <td>NAH4</td>\n",
       "      <td>12</td>\n",
       "      <td>10</td>\n",
       "      <td>2019</td>\n",
       "      <td>27</td>\n",
       "      <td>10</td>\n",
       "      <td>2019</td>\n",
       "    </tr>\n",
       "    <tr>\n",
       "      <th>2</th>\n",
       "      <td>CA02</td>\n",
       "      <td>0140104429</td>\n",
       "      <td>COSTCO foundation</td>\n",
       "      <td>0</td>\n",
       "      <td>1</td>\n",
       "      <td>57129.29729</td>\n",
       "      <td>CA10</td>\n",
       "      <td>23</td>\n",
       "      <td>3</td>\n",
       "      <td>2019</td>\n",
       "      <td>3</td>\n",
       "      <td>4</td>\n",
       "      <td>2019</td>\n",
       "    </tr>\n",
       "    <tr>\n",
       "      <th>3</th>\n",
       "      <td>U001</td>\n",
       "      <td>0200769623</td>\n",
       "      <td>WAL-MAR corp</td>\n",
       "      <td>1</td>\n",
       "      <td>1</td>\n",
       "      <td>12219.74000</td>\n",
       "      <td>NAH4</td>\n",
       "      <td>27</td>\n",
       "      <td>11</td>\n",
       "      <td>2019</td>\n",
       "      <td>12</td>\n",
       "      <td>12</td>\n",
       "      <td>2019</td>\n",
       "    </tr>\n",
       "    <tr>\n",
       "      <th>4</th>\n",
       "      <td>U001</td>\n",
       "      <td>0200769623</td>\n",
       "      <td>WAL-MAR corp</td>\n",
       "      <td>1</td>\n",
       "      <td>1</td>\n",
       "      <td>1897.50000</td>\n",
       "      <td>NAH4</td>\n",
       "      <td>27</td>\n",
       "      <td>6</td>\n",
       "      <td>2019</td>\n",
       "      <td>12</td>\n",
       "      <td>7</td>\n",
       "      <td>2019</td>\n",
       "    </tr>\n",
       "  </tbody>\n",
       "</table>\n",
       "</div>"
      ],
      "text/plain": [
       "  business_code cust_number      name_customer  Region  document type  \\\n",
       "0          U001  0200769623         WAL-MAR us       1              1   \n",
       "1          U001  0200769623           WAL-MAR        1              1   \n",
       "2          CA02  0140104429  COSTCO foundation       0              1   \n",
       "3          U001  0200769623       WAL-MAR corp       1              1   \n",
       "4          U001  0200769623       WAL-MAR corp       1              1   \n",
       "\n",
       "   total_open_amount cust_payment_terms  doc_create_day  doc_create_months  \\\n",
       "0         6532.60000               NAH4               5                  5   \n",
       "1         9890.75000               NAH4              12                 10   \n",
       "2        57129.29729               CA10              23                  3   \n",
       "3        12219.74000               NAH4              27                 11   \n",
       "4         1897.50000               NAH4              27                  6   \n",
       "\n",
       "   doc_create_year  due_in_date_day  due_in_date_month  due_in_date_year  \n",
       "0             2019               20                  5              2019  \n",
       "1             2019               27                 10              2019  \n",
       "2             2019                3                  4              2019  \n",
       "3             2019               12                 12              2019  \n",
       "4             2019               12                  7              2019  "
      ]
     },
     "execution_count": 860,
     "metadata": {},
     "output_type": "execute_result"
    }
   ],
   "source": [
    "X_train.head()"
   ]
  },
  {
   "cell_type": "code",
   "execution_count": 861,
   "metadata": {},
   "outputs": [
    {
     "name": "stderr",
     "output_type": "stream",
     "text": [
      "c:\\users\\kiit\\appdata\\local\\programs\\python\\python37\\lib\\site-packages\\pandas\\core\\frame.py:4312: SettingWithCopyWarning: \n",
      "A value is trying to be set on a copy of a slice from a DataFrame\n",
      "\n",
      "See the caveats in the documentation: https://pandas.pydata.org/pandas-docs/stable/user_guide/indexing.html#returning-a-view-versus-a-copy\n",
      "  errors=errors,\n"
     ]
    }
   ],
   "source": [
    "X_train.drop(columns=['document type'],inplace=True)\n",
    "X_validation.drop(columns=['document type'],inplace=True)\n",
    "X_test.drop(columns=['document type'],inplace=True)"
   ]
  },
  {
   "cell_type": "markdown",
   "metadata": {},
   "source": [
    "Label Encoding cust_payment_terms"
   ]
  },
  {
   "cell_type": "code",
   "execution_count": 862,
   "metadata": {},
   "outputs": [],
   "source": [
    "a=df.cust_payment_terms.unique()"
   ]
  },
  {
   "cell_type": "code",
   "execution_count": 863,
   "metadata": {},
   "outputs": [
    {
     "data": {
      "text/plain": [
       "array(['NAH4', 'CA10', 'NAAX', 'NAM4', 'NAA8', 'NAX2', 'NAM2', 'NAC6',\n",
       "       'NAU5', 'NAAW', 'NAUZ', 'NAD1', 'NA10', 'NAVD', 'NAVR', 'NAG2',\n",
       "       'NAVM', 'NAVQ', 'NA32', 'NAGD', 'NAVF', 'NABG', 'NAVL', 'NAM1',\n",
       "       'NAWN', 'NAWU', 'NAVE', 'CA30', 'NAD5', 'B112', 'NA8Q', 'NAWP',\n",
       "       'NATX', 'C106', 'NAD4', 'NAUP', 'NAD8', 'NATL', 'NACB', 'NATU',\n",
       "       'NA3F', 'NA3B', 'NATK', 'NAUY', 'NA84', 'NAB1', 'NAUI', 'NA38',\n",
       "       'NA9X', 'BR56', 'NAWM', 'NATM', 'CAX2', 'NATW', 'NATZ', 'NA31',\n",
       "       '90M7', 'NAVC', 'NA25', 'NACE', 'C129', 'NATJ', 'B052', 'NAV9',\n",
       "       'B030', 'NAV2', 'NATH', 'NAUX', 'NANC', 'CAB1', 'NAM3', 'NAUW',\n",
       "       'NATV', 'NACH'], dtype=object)"
      ]
     },
     "execution_count": 863,
     "metadata": {},
     "output_type": "execute_result"
    }
   ],
   "source": [
    "a"
   ]
  },
  {
   "cell_type": "code",
   "execution_count": 864,
   "metadata": {},
   "outputs": [],
   "source": [
    "l=len(a)"
   ]
  },
  {
   "cell_type": "code",
   "execution_count": 865,
   "metadata": {},
   "outputs": [
    {
     "data": {
      "text/plain": [
       "[1,\n",
       " 2,\n",
       " 3,\n",
       " 4,\n",
       " 5,\n",
       " 6,\n",
       " 7,\n",
       " 8,\n",
       " 9,\n",
       " 10,\n",
       " 11,\n",
       " 12,\n",
       " 13,\n",
       " 14,\n",
       " 15,\n",
       " 16,\n",
       " 17,\n",
       " 18,\n",
       " 19,\n",
       " 20,\n",
       " 21,\n",
       " 22,\n",
       " 23,\n",
       " 24,\n",
       " 25,\n",
       " 26,\n",
       " 27,\n",
       " 28,\n",
       " 29,\n",
       " 30,\n",
       " 31,\n",
       " 32,\n",
       " 33,\n",
       " 34,\n",
       " 35,\n",
       " 36,\n",
       " 37,\n",
       " 38,\n",
       " 39,\n",
       " 40,\n",
       " 41,\n",
       " 42,\n",
       " 43,\n",
       " 44,\n",
       " 45,\n",
       " 46,\n",
       " 47,\n",
       " 48,\n",
       " 49,\n",
       " 50,\n",
       " 51,\n",
       " 52,\n",
       " 53,\n",
       " 54,\n",
       " 55,\n",
       " 56,\n",
       " 57,\n",
       " 58,\n",
       " 59,\n",
       " 60,\n",
       " 61,\n",
       " 62,\n",
       " 63,\n",
       " 64,\n",
       " 65,\n",
       " 66,\n",
       " 67,\n",
       " 68,\n",
       " 69,\n",
       " 70,\n",
       " 71,\n",
       " 72,\n",
       " 73,\n",
       " 74]"
      ]
     },
     "execution_count": 865,
     "metadata": {},
     "output_type": "execute_result"
    }
   ],
   "source": [
    "list=[ i for i in range(1,l+1)]\n",
    "list"
   ]
  },
  {
   "cell_type": "code",
   "execution_count": 866,
   "metadata": {},
   "outputs": [],
   "source": [
    "d1=dict(zip(a,list))"
   ]
  },
  {
   "cell_type": "code",
   "execution_count": 867,
   "metadata": {},
   "outputs": [
    {
     "data": {
      "text/plain": [
       "{'NAH4': 1,\n",
       " 'CA10': 2,\n",
       " 'NAAX': 3,\n",
       " 'NAM4': 4,\n",
       " 'NAA8': 5,\n",
       " 'NAX2': 6,\n",
       " 'NAM2': 7,\n",
       " 'NAC6': 8,\n",
       " 'NAU5': 9,\n",
       " 'NAAW': 10,\n",
       " 'NAUZ': 11,\n",
       " 'NAD1': 12,\n",
       " 'NA10': 13,\n",
       " 'NAVD': 14,\n",
       " 'NAVR': 15,\n",
       " 'NAG2': 16,\n",
       " 'NAVM': 17,\n",
       " 'NAVQ': 18,\n",
       " 'NA32': 19,\n",
       " 'NAGD': 20,\n",
       " 'NAVF': 21,\n",
       " 'NABG': 22,\n",
       " 'NAVL': 23,\n",
       " 'NAM1': 24,\n",
       " 'NAWN': 25,\n",
       " 'NAWU': 26,\n",
       " 'NAVE': 27,\n",
       " 'CA30': 28,\n",
       " 'NAD5': 29,\n",
       " 'B112': 30,\n",
       " 'NA8Q': 31,\n",
       " 'NAWP': 32,\n",
       " 'NATX': 33,\n",
       " 'C106': 34,\n",
       " 'NAD4': 35,\n",
       " 'NAUP': 36,\n",
       " 'NAD8': 37,\n",
       " 'NATL': 38,\n",
       " 'NACB': 39,\n",
       " 'NATU': 40,\n",
       " 'NA3F': 41,\n",
       " 'NA3B': 42,\n",
       " 'NATK': 43,\n",
       " 'NAUY': 44,\n",
       " 'NA84': 45,\n",
       " 'NAB1': 46,\n",
       " 'NAUI': 47,\n",
       " 'NA38': 48,\n",
       " 'NA9X': 49,\n",
       " 'BR56': 50,\n",
       " 'NAWM': 51,\n",
       " 'NATM': 52,\n",
       " 'CAX2': 53,\n",
       " 'NATW': 54,\n",
       " 'NATZ': 55,\n",
       " 'NA31': 56,\n",
       " '90M7': 57,\n",
       " 'NAVC': 58,\n",
       " 'NA25': 59,\n",
       " 'NACE': 60,\n",
       " 'C129': 61,\n",
       " 'NATJ': 62,\n",
       " 'B052': 63,\n",
       " 'NAV9': 64,\n",
       " 'B030': 65,\n",
       " 'NAV2': 66,\n",
       " 'NATH': 67,\n",
       " 'NAUX': 68,\n",
       " 'NANC': 69,\n",
       " 'CAB1': 70,\n",
       " 'NAM3': 71,\n",
       " 'NAUW': 72,\n",
       " 'NATV': 73,\n",
       " 'NACH': 74}"
      ]
     },
     "execution_count": 867,
     "metadata": {},
     "output_type": "execute_result"
    }
   ],
   "source": [
    "d1"
   ]
  },
  {
   "cell_type": "markdown",
   "metadata": {},
   "source": [
    "Label Encoding X_train"
   ]
  },
  {
   "cell_type": "code",
   "execution_count": 868,
   "metadata": {},
   "outputs": [
    {
     "name": "stderr",
     "output_type": "stream",
     "text": [
      "c:\\users\\kiit\\appdata\\local\\programs\\python\\python37\\lib\\site-packages\\pandas\\core\\series.py:4485: SettingWithCopyWarning: \n",
      "A value is trying to be set on a copy of a slice from a DataFrame\n",
      "\n",
      "See the caveats in the documentation: https://pandas.pydata.org/pandas-docs/stable/user_guide/indexing.html#returning-a-view-versus-a-copy\n",
      "  method=method,\n"
     ]
    }
   ],
   "source": [
    "X_train['cust_payment_terms'].replace(d1, inplace=True)"
   ]
  },
  {
   "cell_type": "markdown",
   "metadata": {},
   "source": [
    "Label Encoding X_validation"
   ]
  },
  {
   "cell_type": "code",
   "execution_count": 869,
   "metadata": {},
   "outputs": [],
   "source": [
    "X_validation['cust_payment_terms'].replace(d1, inplace=True)"
   ]
  },
  {
   "cell_type": "markdown",
   "metadata": {},
   "source": [
    "Label Encoding X_test"
   ]
  },
  {
   "cell_type": "code",
   "execution_count": 870,
   "metadata": {},
   "outputs": [],
   "source": [
    "X_test['cust_payment_terms'].replace(d1, inplace=True)"
   ]
  },
  {
   "cell_type": "markdown",
   "metadata": {},
   "source": [
    "Label Encoding on cust_payment_terms is complete"
   ]
  },
  {
   "cell_type": "code",
   "execution_count": 871,
   "metadata": {},
   "outputs": [
    {
     "data": {
      "text/html": [
       "<div>\n",
       "<style scoped>\n",
       "    .dataframe tbody tr th:only-of-type {\n",
       "        vertical-align: middle;\n",
       "    }\n",
       "\n",
       "    .dataframe tbody tr th {\n",
       "        vertical-align: top;\n",
       "    }\n",
       "\n",
       "    .dataframe thead th {\n",
       "        text-align: right;\n",
       "    }\n",
       "</style>\n",
       "<table border=\"1\" class=\"dataframe\">\n",
       "  <thead>\n",
       "    <tr style=\"text-align: right;\">\n",
       "      <th></th>\n",
       "      <th>business_code</th>\n",
       "      <th>cust_number</th>\n",
       "      <th>name_customer</th>\n",
       "      <th>Region</th>\n",
       "      <th>total_open_amount</th>\n",
       "      <th>cust_payment_terms</th>\n",
       "      <th>doc_create_day</th>\n",
       "      <th>doc_create_months</th>\n",
       "      <th>doc_create_year</th>\n",
       "      <th>due_in_date_day</th>\n",
       "      <th>due_in_date_month</th>\n",
       "      <th>due_in_date_year</th>\n",
       "    </tr>\n",
       "  </thead>\n",
       "  <tbody>\n",
       "    <tr>\n",
       "      <th>0</th>\n",
       "      <td>U001</td>\n",
       "      <td>0200769623</td>\n",
       "      <td>WAL-MAR us</td>\n",
       "      <td>1</td>\n",
       "      <td>6532.60000</td>\n",
       "      <td>1</td>\n",
       "      <td>5</td>\n",
       "      <td>5</td>\n",
       "      <td>2019</td>\n",
       "      <td>20</td>\n",
       "      <td>5</td>\n",
       "      <td>2019</td>\n",
       "    </tr>\n",
       "    <tr>\n",
       "      <th>1</th>\n",
       "      <td>U001</td>\n",
       "      <td>0200769623</td>\n",
       "      <td>WAL-MAR</td>\n",
       "      <td>1</td>\n",
       "      <td>9890.75000</td>\n",
       "      <td>1</td>\n",
       "      <td>12</td>\n",
       "      <td>10</td>\n",
       "      <td>2019</td>\n",
       "      <td>27</td>\n",
       "      <td>10</td>\n",
       "      <td>2019</td>\n",
       "    </tr>\n",
       "    <tr>\n",
       "      <th>2</th>\n",
       "      <td>CA02</td>\n",
       "      <td>0140104429</td>\n",
       "      <td>COSTCO foundation</td>\n",
       "      <td>0</td>\n",
       "      <td>57129.29729</td>\n",
       "      <td>2</td>\n",
       "      <td>23</td>\n",
       "      <td>3</td>\n",
       "      <td>2019</td>\n",
       "      <td>3</td>\n",
       "      <td>4</td>\n",
       "      <td>2019</td>\n",
       "    </tr>\n",
       "    <tr>\n",
       "      <th>3</th>\n",
       "      <td>U001</td>\n",
       "      <td>0200769623</td>\n",
       "      <td>WAL-MAR corp</td>\n",
       "      <td>1</td>\n",
       "      <td>12219.74000</td>\n",
       "      <td>1</td>\n",
       "      <td>27</td>\n",
       "      <td>11</td>\n",
       "      <td>2019</td>\n",
       "      <td>12</td>\n",
       "      <td>12</td>\n",
       "      <td>2019</td>\n",
       "    </tr>\n",
       "    <tr>\n",
       "      <th>4</th>\n",
       "      <td>U001</td>\n",
       "      <td>0200769623</td>\n",
       "      <td>WAL-MAR corp</td>\n",
       "      <td>1</td>\n",
       "      <td>1897.50000</td>\n",
       "      <td>1</td>\n",
       "      <td>27</td>\n",
       "      <td>6</td>\n",
       "      <td>2019</td>\n",
       "      <td>12</td>\n",
       "      <td>7</td>\n",
       "      <td>2019</td>\n",
       "    </tr>\n",
       "  </tbody>\n",
       "</table>\n",
       "</div>"
      ],
      "text/plain": [
       "  business_code cust_number      name_customer  Region  total_open_amount  \\\n",
       "0          U001  0200769623         WAL-MAR us       1         6532.60000   \n",
       "1          U001  0200769623           WAL-MAR        1         9890.75000   \n",
       "2          CA02  0140104429  COSTCO foundation       0        57129.29729   \n",
       "3          U001  0200769623       WAL-MAR corp       1        12219.74000   \n",
       "4          U001  0200769623       WAL-MAR corp       1         1897.50000   \n",
       "\n",
       "   cust_payment_terms  doc_create_day  doc_create_months  doc_create_year  \\\n",
       "0                   1               5                  5             2019   \n",
       "1                   1              12                 10             2019   \n",
       "2                   2              23                  3             2019   \n",
       "3                   1              27                 11             2019   \n",
       "4                   1              27                  6             2019   \n",
       "\n",
       "   due_in_date_day  due_in_date_month  due_in_date_year  \n",
       "0               20                  5              2019  \n",
       "1               27                 10              2019  \n",
       "2                3                  4              2019  \n",
       "3               12                 12              2019  \n",
       "4               12                  7              2019  "
      ]
     },
     "execution_count": 871,
     "metadata": {},
     "output_type": "execute_result"
    }
   ],
   "source": [
    "X_train.head()"
   ]
  },
  {
   "cell_type": "markdown",
   "metadata": {},
   "source": [
    "Label Encoding Business Code"
   ]
  },
  {
   "cell_type": "code",
   "execution_count": 872,
   "metadata": {},
   "outputs": [],
   "source": [
    "a=df.business_code.unique()"
   ]
  },
  {
   "cell_type": "code",
   "execution_count": 873,
   "metadata": {},
   "outputs": [
    {
     "data": {
      "text/plain": [
       "array(['U001', 'CA02', 'U013', 'U002', 'U005'], dtype=object)"
      ]
     },
     "execution_count": 873,
     "metadata": {},
     "output_type": "execute_result"
    }
   ],
   "source": [
    "a"
   ]
  },
  {
   "cell_type": "code",
   "execution_count": 874,
   "metadata": {},
   "outputs": [],
   "source": [
    "l=len(a)"
   ]
  },
  {
   "cell_type": "code",
   "execution_count": 875,
   "metadata": {},
   "outputs": [
    {
     "data": {
      "text/plain": [
       "[1, 2, 3, 4, 5]"
      ]
     },
     "execution_count": 875,
     "metadata": {},
     "output_type": "execute_result"
    }
   ],
   "source": [
    "list=[ i for i in range(1,l+1)]\n",
    "list"
   ]
  },
  {
   "cell_type": "code",
   "execution_count": 876,
   "metadata": {},
   "outputs": [],
   "source": [
    "d1=dict(zip(a,list))"
   ]
  },
  {
   "cell_type": "code",
   "execution_count": 877,
   "metadata": {},
   "outputs": [
    {
     "data": {
      "text/plain": [
       "{'U001': 1, 'CA02': 2, 'U013': 3, 'U002': 4, 'U005': 5}"
      ]
     },
     "execution_count": 877,
     "metadata": {},
     "output_type": "execute_result"
    }
   ],
   "source": [
    "d1"
   ]
  },
  {
   "cell_type": "markdown",
   "metadata": {},
   "source": [
    "Label Encoding cust_payment_terms in X_train"
   ]
  },
  {
   "cell_type": "code",
   "execution_count": 878,
   "metadata": {},
   "outputs": [
    {
     "name": "stderr",
     "output_type": "stream",
     "text": [
      "c:\\users\\kiit\\appdata\\local\\programs\\python\\python37\\lib\\site-packages\\pandas\\core\\series.py:4485: SettingWithCopyWarning: \n",
      "A value is trying to be set on a copy of a slice from a DataFrame\n",
      "\n",
      "See the caveats in the documentation: https://pandas.pydata.org/pandas-docs/stable/user_guide/indexing.html#returning-a-view-versus-a-copy\n",
      "  method=method,\n"
     ]
    }
   ],
   "source": [
    "X_train['business_code'].replace(d1, inplace=True)"
   ]
  },
  {
   "cell_type": "markdown",
   "metadata": {},
   "source": [
    "Label Encoding cust_payment_terms in X_validation"
   ]
  },
  {
   "cell_type": "code",
   "execution_count": 879,
   "metadata": {},
   "outputs": [],
   "source": [
    "X_validation['business_code'].replace(d1, inplace=True)"
   ]
  },
  {
   "cell_type": "markdown",
   "metadata": {},
   "source": [
    "Label Encoding cust_payment_terms in X_test"
   ]
  },
  {
   "cell_type": "code",
   "execution_count": 880,
   "metadata": {},
   "outputs": [],
   "source": [
    "X_test['business_code'].replace(d1, inplace=True)"
   ]
  },
  {
   "cell_type": "code",
   "execution_count": 881,
   "metadata": {},
   "outputs": [
    {
     "data": {
      "text/html": [
       "<div>\n",
       "<style scoped>\n",
       "    .dataframe tbody tr th:only-of-type {\n",
       "        vertical-align: middle;\n",
       "    }\n",
       "\n",
       "    .dataframe tbody tr th {\n",
       "        vertical-align: top;\n",
       "    }\n",
       "\n",
       "    .dataframe thead th {\n",
       "        text-align: right;\n",
       "    }\n",
       "</style>\n",
       "<table border=\"1\" class=\"dataframe\">\n",
       "  <thead>\n",
       "    <tr style=\"text-align: right;\">\n",
       "      <th></th>\n",
       "      <th>business_code</th>\n",
       "      <th>cust_number</th>\n",
       "      <th>name_customer</th>\n",
       "      <th>Region</th>\n",
       "      <th>total_open_amount</th>\n",
       "      <th>cust_payment_terms</th>\n",
       "      <th>doc_create_day</th>\n",
       "      <th>doc_create_months</th>\n",
       "      <th>doc_create_year</th>\n",
       "      <th>due_in_date_day</th>\n",
       "      <th>due_in_date_month</th>\n",
       "      <th>due_in_date_year</th>\n",
       "    </tr>\n",
       "  </thead>\n",
       "  <tbody>\n",
       "    <tr>\n",
       "      <th>0</th>\n",
       "      <td>1</td>\n",
       "      <td>0200769623</td>\n",
       "      <td>WAL-MAR us</td>\n",
       "      <td>1</td>\n",
       "      <td>6532.60000</td>\n",
       "      <td>1</td>\n",
       "      <td>5</td>\n",
       "      <td>5</td>\n",
       "      <td>2019</td>\n",
       "      <td>20</td>\n",
       "      <td>5</td>\n",
       "      <td>2019</td>\n",
       "    </tr>\n",
       "    <tr>\n",
       "      <th>1</th>\n",
       "      <td>1</td>\n",
       "      <td>0200769623</td>\n",
       "      <td>WAL-MAR</td>\n",
       "      <td>1</td>\n",
       "      <td>9890.75000</td>\n",
       "      <td>1</td>\n",
       "      <td>12</td>\n",
       "      <td>10</td>\n",
       "      <td>2019</td>\n",
       "      <td>27</td>\n",
       "      <td>10</td>\n",
       "      <td>2019</td>\n",
       "    </tr>\n",
       "    <tr>\n",
       "      <th>2</th>\n",
       "      <td>2</td>\n",
       "      <td>0140104429</td>\n",
       "      <td>COSTCO foundation</td>\n",
       "      <td>0</td>\n",
       "      <td>57129.29729</td>\n",
       "      <td>2</td>\n",
       "      <td>23</td>\n",
       "      <td>3</td>\n",
       "      <td>2019</td>\n",
       "      <td>3</td>\n",
       "      <td>4</td>\n",
       "      <td>2019</td>\n",
       "    </tr>\n",
       "    <tr>\n",
       "      <th>3</th>\n",
       "      <td>1</td>\n",
       "      <td>0200769623</td>\n",
       "      <td>WAL-MAR corp</td>\n",
       "      <td>1</td>\n",
       "      <td>12219.74000</td>\n",
       "      <td>1</td>\n",
       "      <td>27</td>\n",
       "      <td>11</td>\n",
       "      <td>2019</td>\n",
       "      <td>12</td>\n",
       "      <td>12</td>\n",
       "      <td>2019</td>\n",
       "    </tr>\n",
       "    <tr>\n",
       "      <th>4</th>\n",
       "      <td>1</td>\n",
       "      <td>0200769623</td>\n",
       "      <td>WAL-MAR corp</td>\n",
       "      <td>1</td>\n",
       "      <td>1897.50000</td>\n",
       "      <td>1</td>\n",
       "      <td>27</td>\n",
       "      <td>6</td>\n",
       "      <td>2019</td>\n",
       "      <td>12</td>\n",
       "      <td>7</td>\n",
       "      <td>2019</td>\n",
       "    </tr>\n",
       "  </tbody>\n",
       "</table>\n",
       "</div>"
      ],
      "text/plain": [
       "   business_code cust_number      name_customer  Region  total_open_amount  \\\n",
       "0              1  0200769623         WAL-MAR us       1         6532.60000   \n",
       "1              1  0200769623           WAL-MAR        1         9890.75000   \n",
       "2              2  0140104429  COSTCO foundation       0        57129.29729   \n",
       "3              1  0200769623       WAL-MAR corp       1        12219.74000   \n",
       "4              1  0200769623       WAL-MAR corp       1         1897.50000   \n",
       "\n",
       "   cust_payment_terms  doc_create_day  doc_create_months  doc_create_year  \\\n",
       "0                   1               5                  5             2019   \n",
       "1                   1              12                 10             2019   \n",
       "2                   2              23                  3             2019   \n",
       "3                   1              27                 11             2019   \n",
       "4                   1              27                  6             2019   \n",
       "\n",
       "   due_in_date_day  due_in_date_month  due_in_date_year  \n",
       "0               20                  5              2019  \n",
       "1               27                 10              2019  \n",
       "2                3                  4              2019  \n",
       "3               12                 12              2019  \n",
       "4               12                  7              2019  "
      ]
     },
     "execution_count": 881,
     "metadata": {},
     "output_type": "execute_result"
    }
   ],
   "source": [
    "X_train.head()"
   ]
  },
  {
   "cell_type": "markdown",
   "metadata": {},
   "source": [
    "Label Encoding cust_number"
   ]
  },
  {
   "cell_type": "code",
   "execution_count": 882,
   "metadata": {},
   "outputs": [],
   "source": [
    "a=df.cust_number.unique()"
   ]
  },
  {
   "cell_type": "code",
   "execution_count": 883,
   "metadata": {},
   "outputs": [
    {
     "data": {
      "text/plain": [
       "array(['0200769623', '0140104429', '0200794332', ..., '0100033130',\n",
       "       '0200789896', '200657619'], dtype=object)"
      ]
     },
     "execution_count": 883,
     "metadata": {},
     "output_type": "execute_result"
    }
   ],
   "source": [
    "a"
   ]
  },
  {
   "cell_type": "code",
   "execution_count": 884,
   "metadata": {},
   "outputs": [],
   "source": [
    "l=len(a)"
   ]
  },
  {
   "cell_type": "code",
   "execution_count": 885,
   "metadata": {},
   "outputs": [],
   "source": [
    "list=[ i for i in range(1,l+1)]"
   ]
  },
  {
   "cell_type": "code",
   "execution_count": 886,
   "metadata": {},
   "outputs": [],
   "source": [
    "d1=dict(zip(a,list))"
   ]
  },
  {
   "cell_type": "markdown",
   "metadata": {},
   "source": [
    "Label Encoding cust_number in X_train"
   ]
  },
  {
   "cell_type": "code",
   "execution_count": 887,
   "metadata": {},
   "outputs": [
    {
     "name": "stderr",
     "output_type": "stream",
     "text": [
      "c:\\users\\kiit\\appdata\\local\\programs\\python\\python37\\lib\\site-packages\\pandas\\core\\series.py:4485: SettingWithCopyWarning: \n",
      "A value is trying to be set on a copy of a slice from a DataFrame\n",
      "\n",
      "See the caveats in the documentation: https://pandas.pydata.org/pandas-docs/stable/user_guide/indexing.html#returning-a-view-versus-a-copy\n",
      "  method=method,\n"
     ]
    }
   ],
   "source": [
    "X_train['cust_number'].replace(d1, inplace=True)"
   ]
  },
  {
   "cell_type": "markdown",
   "metadata": {},
   "source": [
    "Label Encoding cust_number in X_validation"
   ]
  },
  {
   "cell_type": "code",
   "execution_count": 888,
   "metadata": {},
   "outputs": [],
   "source": [
    "X_validation['cust_number'].replace(d1, inplace=True)"
   ]
  },
  {
   "cell_type": "markdown",
   "metadata": {},
   "source": [
    "Label Encoding cust_number in X_test"
   ]
  },
  {
   "cell_type": "code",
   "execution_count": 889,
   "metadata": {},
   "outputs": [],
   "source": [
    "X_test['cust_number'].replace(d1, inplace=True)"
   ]
  },
  {
   "cell_type": "markdown",
   "metadata": {},
   "source": [
    "Label Encoding name_customer"
   ]
  },
  {
   "cell_type": "code",
   "execution_count": 890,
   "metadata": {},
   "outputs": [],
   "source": [
    "a=df.name_customer.unique()"
   ]
  },
  {
   "cell_type": "code",
   "execution_count": 891,
   "metadata": {},
   "outputs": [],
   "source": [
    "l=len(a)"
   ]
  },
  {
   "cell_type": "code",
   "execution_count": 892,
   "metadata": {},
   "outputs": [],
   "source": [
    "list=[ i for i in range(1,l+1)]"
   ]
  },
  {
   "cell_type": "code",
   "execution_count": 893,
   "metadata": {},
   "outputs": [],
   "source": [
    "d1=dict(zip(a,list))"
   ]
  },
  {
   "cell_type": "markdown",
   "metadata": {},
   "source": [
    "Label Encoding name_customer in X_train"
   ]
  },
  {
   "cell_type": "code",
   "execution_count": 894,
   "metadata": {},
   "outputs": [],
   "source": [
    "X_train['name_customer'].replace(d1, inplace=True)"
   ]
  },
  {
   "cell_type": "markdown",
   "metadata": {},
   "source": [
    "Label Encoding name_customer in X_validation"
   ]
  },
  {
   "cell_type": "code",
   "execution_count": 895,
   "metadata": {},
   "outputs": [],
   "source": [
    "X_validation['name_customer'].replace(d1, inplace=True)"
   ]
  },
  {
   "cell_type": "markdown",
   "metadata": {},
   "source": [
    "Label Encoding name_customer in X_test"
   ]
  },
  {
   "cell_type": "code",
   "execution_count": 896,
   "metadata": {},
   "outputs": [],
   "source": [
    "X_test['name_customer'].replace(d1, inplace=True)"
   ]
  },
  {
   "cell_type": "code",
   "execution_count": 897,
   "metadata": {},
   "outputs": [
    {
     "data": {
      "text/html": [
       "<div>\n",
       "<style scoped>\n",
       "    .dataframe tbody tr th:only-of-type {\n",
       "        vertical-align: middle;\n",
       "    }\n",
       "\n",
       "    .dataframe tbody tr th {\n",
       "        vertical-align: top;\n",
       "    }\n",
       "\n",
       "    .dataframe thead th {\n",
       "        text-align: right;\n",
       "    }\n",
       "</style>\n",
       "<table border=\"1\" class=\"dataframe\">\n",
       "  <thead>\n",
       "    <tr style=\"text-align: right;\">\n",
       "      <th></th>\n",
       "      <th>business_code</th>\n",
       "      <th>cust_number</th>\n",
       "      <th>name_customer</th>\n",
       "      <th>Region</th>\n",
       "      <th>total_open_amount</th>\n",
       "      <th>cust_payment_terms</th>\n",
       "      <th>doc_create_day</th>\n",
       "      <th>doc_create_months</th>\n",
       "      <th>doc_create_year</th>\n",
       "      <th>due_in_date_day</th>\n",
       "      <th>due_in_date_month</th>\n",
       "      <th>due_in_date_year</th>\n",
       "    </tr>\n",
       "  </thead>\n",
       "  <tbody>\n",
       "    <tr>\n",
       "      <th>0</th>\n",
       "      <td>1</td>\n",
       "      <td>1</td>\n",
       "      <td>1</td>\n",
       "      <td>1</td>\n",
       "      <td>6532.60000</td>\n",
       "      <td>1</td>\n",
       "      <td>5</td>\n",
       "      <td>5</td>\n",
       "      <td>2019</td>\n",
       "      <td>20</td>\n",
       "      <td>5</td>\n",
       "      <td>2019</td>\n",
       "    </tr>\n",
       "    <tr>\n",
       "      <th>1</th>\n",
       "      <td>1</td>\n",
       "      <td>1</td>\n",
       "      <td>2</td>\n",
       "      <td>1</td>\n",
       "      <td>9890.75000</td>\n",
       "      <td>1</td>\n",
       "      <td>12</td>\n",
       "      <td>10</td>\n",
       "      <td>2019</td>\n",
       "      <td>27</td>\n",
       "      <td>10</td>\n",
       "      <td>2019</td>\n",
       "    </tr>\n",
       "    <tr>\n",
       "      <th>2</th>\n",
       "      <td>2</td>\n",
       "      <td>2</td>\n",
       "      <td>3</td>\n",
       "      <td>0</td>\n",
       "      <td>57129.29729</td>\n",
       "      <td>2</td>\n",
       "      <td>23</td>\n",
       "      <td>3</td>\n",
       "      <td>2019</td>\n",
       "      <td>3</td>\n",
       "      <td>4</td>\n",
       "      <td>2019</td>\n",
       "    </tr>\n",
       "    <tr>\n",
       "      <th>3</th>\n",
       "      <td>1</td>\n",
       "      <td>1</td>\n",
       "      <td>4</td>\n",
       "      <td>1</td>\n",
       "      <td>12219.74000</td>\n",
       "      <td>1</td>\n",
       "      <td>27</td>\n",
       "      <td>11</td>\n",
       "      <td>2019</td>\n",
       "      <td>12</td>\n",
       "      <td>12</td>\n",
       "      <td>2019</td>\n",
       "    </tr>\n",
       "    <tr>\n",
       "      <th>4</th>\n",
       "      <td>1</td>\n",
       "      <td>1</td>\n",
       "      <td>4</td>\n",
       "      <td>1</td>\n",
       "      <td>1897.50000</td>\n",
       "      <td>1</td>\n",
       "      <td>27</td>\n",
       "      <td>6</td>\n",
       "      <td>2019</td>\n",
       "      <td>12</td>\n",
       "      <td>7</td>\n",
       "      <td>2019</td>\n",
       "    </tr>\n",
       "  </tbody>\n",
       "</table>\n",
       "</div>"
      ],
      "text/plain": [
       "   business_code  cust_number  name_customer  Region  total_open_amount  \\\n",
       "0              1            1              1       1         6532.60000   \n",
       "1              1            1              2       1         9890.75000   \n",
       "2              2            2              3       0        57129.29729   \n",
       "3              1            1              4       1        12219.74000   \n",
       "4              1            1              4       1         1897.50000   \n",
       "\n",
       "   cust_payment_terms  doc_create_day  doc_create_months  doc_create_year  \\\n",
       "0                   1               5                  5             2019   \n",
       "1                   1              12                 10             2019   \n",
       "2                   2              23                  3             2019   \n",
       "3                   1              27                 11             2019   \n",
       "4                   1              27                  6             2019   \n",
       "\n",
       "   due_in_date_day  due_in_date_month  due_in_date_year  \n",
       "0               20                  5              2019  \n",
       "1               27                 10              2019  \n",
       "2                3                  4              2019  \n",
       "3               12                 12              2019  \n",
       "4               12                  7              2019  "
      ]
     },
     "execution_count": 897,
     "metadata": {},
     "output_type": "execute_result"
    }
   ],
   "source": [
    "X_train.head()"
   ]
  },
  {
   "cell_type": "code",
   "execution_count": null,
   "metadata": {},
   "outputs": [],
   "source": []
  },
  {
   "cell_type": "code",
   "execution_count": 898,
   "metadata": {},
   "outputs": [
    {
     "data": {
      "text/plain": [
       "<AxesSubplot:xlabel='doc_id', ylabel='delay'>"
      ]
     },
     "execution_count": 898,
     "metadata": {},
     "output_type": "execute_result"
    },
    {
     "data": {
      "image/png": "[encoded data removed]",
      "text/plain": [
       "<Figure size 432x288 with 1 Axes>"
      ]
     },
     "metadata": {
      "needs_background": "light"
     },
     "output_type": "display_data"
    }
   ],
   "source": [
    "sns.regplot(x=\"doc_id\",y=\"delay\", data=X_train_and_validation)"
   ]
  },
  {
   "cell_type": "markdown",
   "metadata": {},
   "source": [
    "Machine Learning Model"
   ]
  },
  {
   "cell_type": "code",
   "execution_count": 899,
   "metadata": {},
   "outputs": [],
   "source": [
    "from sklearn import datasets, linear_model\n",
    "from sklearn.metrics import mean_squared_error, r2_score"
   ]
  },
  {
   "cell_type": "code",
   "execution_count": 900,
   "metadata": {},
   "outputs": [],
   "source": [
    "from sklearn.metrics import confusion_matrix,precision_recall_curve,roc_auc_score,recall_score,classification_report\n",
    "from sklearn.metrics import accuracy_score,f1_score,precision_score"
   ]
  },
  {
   "cell_type": "code",
   "execution_count": 901,
   "metadata": {},
   "outputs": [],
   "source": [
    "from sklearn.tree import DecisionTreeClassifier\n",
    "from sklearn.ensemble import RandomForestClassifier"
   ]
  },
  {
   "cell_type": "markdown",
   "metadata": {},
   "source": [
    "Decision Tree"
   ]
  },
  {
   "cell_type": "code",
   "execution_count": 902,
   "metadata": {},
   "outputs": [
    {
     "data": {
      "text/plain": [
       "DecisionTreeClassifier(random_state=0)"
      ]
     },
     "execution_count": 902,
     "metadata": {},
     "output_type": "execute_result"
    }
   ],
   "source": [
    "model = DecisionTreeClassifier(random_state=0)\n",
    "model.fit(X_train,y_train)"
   ]
  },
  {
   "cell_type": "code",
   "execution_count": 903,
   "metadata": {},
   "outputs": [],
   "source": [
    "pred = model.predict(X_validation)"
   ]
  },
  {
   "cell_type": "code",
   "execution_count": 904,
   "metadata": {},
   "outputs": [],
   "source": [
    "acc3 = accuracy_score(y_validation,pred)"
   ]
  },
  {
   "cell_type": "code",
   "execution_count": 905,
   "metadata": {},
   "outputs": [
    {
     "name": "stdout",
     "output_type": "stream",
     "text": [
      "The accuracy score is : 0.47847847847847846\n"
     ]
    }
   ],
   "source": [
    "print(\"The accuracy score is :\",acc3)"
   ]
  },
  {
   "cell_type": "code",
   "execution_count": 906,
   "metadata": {},
   "outputs": [
    {
     "data": {
      "text/plain": [
       "83.96517946517946"
      ]
     },
     "execution_count": 906,
     "metadata": {},
     "output_type": "execute_result"
    }
   ],
   "source": [
    "from sklearn.metrics import mean_squared_error\n",
    "mean_squared_error(y_validation,pred)"
   ]
  },
  {
   "cell_type": "markdown",
   "metadata": {},
   "source": [
    "Random Forest"
   ]
  },
  {
   "cell_type": "code",
   "execution_count": 908,
   "metadata": {},
   "outputs": [
    {
     "name": "stdout",
     "output_type": "stream",
     "text": [
      "The accuracy score is : 0.6098956098956099\n"
     ]
    }
   ],
   "source": [
    "model = RandomForestClassifier()\n",
    "model.fit(X_train,y_train)\n",
    "pred = model.predict(X_validation)\n",
    "acc2 = accuracy_score(y_validation,pred)\n",
    "print(\"The accuracy score is :\",acc2)"
   ]
  },
  {
   "cell_type": "code",
   "execution_count": 909,
   "metadata": {},
   "outputs": [
    {
     "data": {
      "text/plain": [
       "56.31917631917632"
      ]
     },
     "execution_count": 909,
     "metadata": {},
     "output_type": "execute_result"
    }
   ],
   "source": [
    "from sklearn.metrics import mean_squared_error\n",
    "mean_squared_error(y_validation,pred)"
   ]
  },
  {
   "cell_type": "code",
   "execution_count": 923,
   "metadata": {},
   "outputs": [],
   "source": [
    "from sklearn.ensemble import ExtraTreesClassifier\n",
    "extra_tree_forest = ExtraTreesClassifier(n_estimators = 5, criterion ='entropy', max_features = 2) \n",
    "# Training the model \n",
    "extra_tree_forest.fit(X_train, y_train) \n",
    "\n",
    "# Computing the importance of each feature \n",
    "feature_importance = extra_tree_forest.feature_importances_ \n",
    "  \n",
    "# Normalizing the individual importances \n",
    "feature_importance_normalized = np.std([tree.feature_importances_ for tree in \n",
    "                                        extra_tree_forest.estimators_],axis=0) "
   ]
  },
  {
   "cell_type": "code",
   "execution_count": 932,
   "metadata": {},
   "outputs": [
    {
     "data": {
      "image/png": "[encoded data removed]",
      "text/plain": [
       "<Figure size 1440x720 with 1 Axes>"
      ]
     },
     "metadata": {
      "needs_background": "light"
     },
     "output_type": "display_data"
    }
   ],
   "source": [
    "plt.figure(figsize=(20,10))\n",
    "plt.bar(X_train.columns, feature_importance_normalized) \n",
    "plt.xlabel('Feature Labels') \n",
    "plt.ylabel('Feature Importances') \n",
    "plt.title('Comparison of different Feature Importances') \n",
    "plt.show()"
   ]
  },
  {
   "cell_type": "code",
   "execution_count": null,
   "metadata": {},
   "outputs": [],
   "source": []
  }
 ],
 "metadata": {
  "kernelspec": {
   "display_name": "Python 3",
   "language": "python",
   "name": "python3"
  },
  "language_info": {
   "codemirror_mode": {
    "name": "ipython",
    "version": 3
   },
   "file_extension": ".py",
   "mimetype": "text/x-python",
   "name": "python",
   "nbconvert_exporter": "python",
   "pygments_lexer": "ipython3",
   "version": "3.7.7"
  }
 },
 "nbformat": 4,
 "nbformat_minor": 4
}
